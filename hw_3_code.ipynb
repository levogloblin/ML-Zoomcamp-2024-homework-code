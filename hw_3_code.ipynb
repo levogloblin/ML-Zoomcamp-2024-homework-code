{
 "cells": [
  {
   "cell_type": "code",
   "id": "initial_id",
   "metadata": {
    "collapsed": true,
    "ExecuteTime": {
     "end_time": "2024-10-08T07:40:37.498302Z",
     "start_time": "2024-10-08T07:40:37.056387Z"
    }
   },
   "source": [
    "import pandas as pd\n",
    "import numpy as np"
   ],
   "outputs": [],
   "execution_count": 1
  },
  {
   "metadata": {
    "ExecuteTime": {
     "end_time": "2024-10-08T07:40:37.554725Z",
     "start_time": "2024-10-08T07:40:37.501361Z"
    }
   },
   "cell_type": "code",
   "source": "bank_mark = pd.read_csv('bank-full.csv', sep=';')",
   "id": "fd6bef778a075bfc",
   "outputs": [],
   "execution_count": 2
  },
  {
   "metadata": {
    "ExecuteTime": {
     "end_time": "2024-10-08T07:40:37.630058Z",
     "start_time": "2024-10-08T07:40:37.613392Z"
    }
   },
   "cell_type": "code",
   "source": "bank_mark.info()",
   "id": "20615076d2be581f",
   "outputs": [
    {
     "name": "stdout",
     "output_type": "stream",
     "text": [
      "<class 'pandas.core.frame.DataFrame'>\n",
      "RangeIndex: 45211 entries, 0 to 45210\n",
      "Data columns (total 17 columns):\n",
      " #   Column     Non-Null Count  Dtype \n",
      "---  ------     --------------  ----- \n",
      " 0   age        45211 non-null  int64 \n",
      " 1   job        45211 non-null  object\n",
      " 2   marital    45211 non-null  object\n",
      " 3   education  45211 non-null  object\n",
      " 4   default    45211 non-null  object\n",
      " 5   balance    45211 non-null  int64 \n",
      " 6   housing    45211 non-null  object\n",
      " 7   loan       45211 non-null  object\n",
      " 8   contact    45211 non-null  object\n",
      " 9   day        45211 non-null  int64 \n",
      " 10  month      45211 non-null  object\n",
      " 11  duration   45211 non-null  int64 \n",
      " 12  campaign   45211 non-null  int64 \n",
      " 13  pdays      45211 non-null  int64 \n",
      " 14  previous   45211 non-null  int64 \n",
      " 15  poutcome   45211 non-null  object\n",
      " 16  y          45211 non-null  object\n",
      "dtypes: int64(7), object(10)\n",
      "memory usage: 5.9+ MB\n"
     ]
    }
   ],
   "execution_count": 3
  },
  {
   "metadata": {
    "ExecuteTime": {
     "end_time": "2024-10-08T07:40:37.671216Z",
     "start_time": "2024-10-08T07:40:37.649412Z"
    }
   },
   "cell_type": "code",
   "source": "bank_mark.describe()",
   "id": "dbf5a4c444aa2457",
   "outputs": [
    {
     "data": {
      "text/plain": [
       "                age        balance           day      duration      campaign  \\\n",
       "count  45211.000000   45211.000000  45211.000000  45211.000000  45211.000000   \n",
       "mean      40.936210    1362.272058     15.806419    258.163080      2.763841   \n",
       "std       10.618762    3044.765829      8.322476    257.527812      3.098021   \n",
       "min       18.000000   -8019.000000      1.000000      0.000000      1.000000   \n",
       "25%       33.000000      72.000000      8.000000    103.000000      1.000000   \n",
       "50%       39.000000     448.000000     16.000000    180.000000      2.000000   \n",
       "75%       48.000000    1428.000000     21.000000    319.000000      3.000000   \n",
       "max       95.000000  102127.000000     31.000000   4918.000000     63.000000   \n",
       "\n",
       "              pdays      previous  \n",
       "count  45211.000000  45211.000000  \n",
       "mean      40.197828      0.580323  \n",
       "std      100.128746      2.303441  \n",
       "min       -1.000000      0.000000  \n",
       "25%       -1.000000      0.000000  \n",
       "50%       -1.000000      0.000000  \n",
       "75%       -1.000000      0.000000  \n",
       "max      871.000000    275.000000  "
      ],
      "text/html": [
       "<div>\n",
       "<style scoped>\n",
       "    .dataframe tbody tr th:only-of-type {\n",
       "        vertical-align: middle;\n",
       "    }\n",
       "\n",
       "    .dataframe tbody tr th {\n",
       "        vertical-align: top;\n",
       "    }\n",
       "\n",
       "    .dataframe thead th {\n",
       "        text-align: right;\n",
       "    }\n",
       "</style>\n",
       "<table border=\"1\" class=\"dataframe\">\n",
       "  <thead>\n",
       "    <tr style=\"text-align: right;\">\n",
       "      <th></th>\n",
       "      <th>age</th>\n",
       "      <th>balance</th>\n",
       "      <th>day</th>\n",
       "      <th>duration</th>\n",
       "      <th>campaign</th>\n",
       "      <th>pdays</th>\n",
       "      <th>previous</th>\n",
       "    </tr>\n",
       "  </thead>\n",
       "  <tbody>\n",
       "    <tr>\n",
       "      <th>count</th>\n",
       "      <td>45211.000000</td>\n",
       "      <td>45211.000000</td>\n",
       "      <td>45211.000000</td>\n",
       "      <td>45211.000000</td>\n",
       "      <td>45211.000000</td>\n",
       "      <td>45211.000000</td>\n",
       "      <td>45211.000000</td>\n",
       "    </tr>\n",
       "    <tr>\n",
       "      <th>mean</th>\n",
       "      <td>40.936210</td>\n",
       "      <td>1362.272058</td>\n",
       "      <td>15.806419</td>\n",
       "      <td>258.163080</td>\n",
       "      <td>2.763841</td>\n",
       "      <td>40.197828</td>\n",
       "      <td>0.580323</td>\n",
       "    </tr>\n",
       "    <tr>\n",
       "      <th>std</th>\n",
       "      <td>10.618762</td>\n",
       "      <td>3044.765829</td>\n",
       "      <td>8.322476</td>\n",
       "      <td>257.527812</td>\n",
       "      <td>3.098021</td>\n",
       "      <td>100.128746</td>\n",
       "      <td>2.303441</td>\n",
       "    </tr>\n",
       "    <tr>\n",
       "      <th>min</th>\n",
       "      <td>18.000000</td>\n",
       "      <td>-8019.000000</td>\n",
       "      <td>1.000000</td>\n",
       "      <td>0.000000</td>\n",
       "      <td>1.000000</td>\n",
       "      <td>-1.000000</td>\n",
       "      <td>0.000000</td>\n",
       "    </tr>\n",
       "    <tr>\n",
       "      <th>25%</th>\n",
       "      <td>33.000000</td>\n",
       "      <td>72.000000</td>\n",
       "      <td>8.000000</td>\n",
       "      <td>103.000000</td>\n",
       "      <td>1.000000</td>\n",
       "      <td>-1.000000</td>\n",
       "      <td>0.000000</td>\n",
       "    </tr>\n",
       "    <tr>\n",
       "      <th>50%</th>\n",
       "      <td>39.000000</td>\n",
       "      <td>448.000000</td>\n",
       "      <td>16.000000</td>\n",
       "      <td>180.000000</td>\n",
       "      <td>2.000000</td>\n",
       "      <td>-1.000000</td>\n",
       "      <td>0.000000</td>\n",
       "    </tr>\n",
       "    <tr>\n",
       "      <th>75%</th>\n",
       "      <td>48.000000</td>\n",
       "      <td>1428.000000</td>\n",
       "      <td>21.000000</td>\n",
       "      <td>319.000000</td>\n",
       "      <td>3.000000</td>\n",
       "      <td>-1.000000</td>\n",
       "      <td>0.000000</td>\n",
       "    </tr>\n",
       "    <tr>\n",
       "      <th>max</th>\n",
       "      <td>95.000000</td>\n",
       "      <td>102127.000000</td>\n",
       "      <td>31.000000</td>\n",
       "      <td>4918.000000</td>\n",
       "      <td>63.000000</td>\n",
       "      <td>871.000000</td>\n",
       "      <td>275.000000</td>\n",
       "    </tr>\n",
       "  </tbody>\n",
       "</table>\n",
       "</div>"
      ]
     },
     "execution_count": 4,
     "metadata": {},
     "output_type": "execute_result"
    }
   ],
   "execution_count": 4
  },
  {
   "metadata": {
    "ExecuteTime": {
     "end_time": "2024-10-08T07:40:37.702278Z",
     "start_time": "2024-10-08T07:40:37.699156Z"
    }
   },
   "cell_type": "code",
   "source": [
    "work_columns = [\n",
    "    'age',\n",
    "    'job',\n",
    "    'marital',\n",
    "    'education',\n",
    "    'balance',\n",
    "    'housing',\n",
    "    'contact',\n",
    "    'day',\n",
    "    'month',\n",
    "    'duration',\n",
    "    'campaign',\n",
    "    'pdays',\n",
    "    'previous',\n",
    "    'poutcome',\n",
    "    'y'\n",
    "]"
   ],
   "id": "c93a02fa8e005282",
   "outputs": [],
   "execution_count": 5
  },
  {
   "metadata": {
    "ExecuteTime": {
     "end_time": "2024-10-08T07:40:37.747686Z",
     "start_time": "2024-10-08T07:40:37.738350Z"
    }
   },
   "cell_type": "code",
   "source": "df = bank_mark[work_columns].copy()",
   "id": "b7017e897517a97a",
   "outputs": [],
   "execution_count": 6
  },
  {
   "metadata": {
    "ExecuteTime": {
     "end_time": "2024-10-08T07:40:37.779155Z",
     "start_time": "2024-10-08T07:40:37.766216Z"
    }
   },
   "cell_type": "code",
   "source": "df.isna().sum()",
   "id": "fbb6b27bb98b7654",
   "outputs": [
    {
     "data": {
      "text/plain": [
       "age          0\n",
       "job          0\n",
       "marital      0\n",
       "education    0\n",
       "balance      0\n",
       "housing      0\n",
       "contact      0\n",
       "day          0\n",
       "month        0\n",
       "duration     0\n",
       "campaign     0\n",
       "pdays        0\n",
       "previous     0\n",
       "poutcome     0\n",
       "y            0\n",
       "dtype: int64"
      ]
     },
     "execution_count": 7,
     "metadata": {},
     "output_type": "execute_result"
    }
   ],
   "execution_count": 7
  },
  {
   "metadata": {},
   "cell_type": "markdown",
   "source": "# Q 1",
   "id": "e6eb842739ffc113"
  },
  {
   "metadata": {
    "ExecuteTime": {
     "end_time": "2024-10-08T07:40:37.872649Z",
     "start_time": "2024-10-08T07:40:37.866385Z"
    }
   },
   "cell_type": "code",
   "source": "df['education'].value_counts()",
   "id": "2d32a7db0bee8608",
   "outputs": [
    {
     "data": {
      "text/plain": [
       "education\n",
       "secondary    23202\n",
       "tertiary     13301\n",
       "primary       6851\n",
       "unknown       1857\n",
       "Name: count, dtype: int64"
      ]
     },
     "execution_count": 8,
     "metadata": {},
     "output_type": "execute_result"
    }
   ],
   "execution_count": 8
  },
  {
   "metadata": {
    "ExecuteTime": {
     "end_time": "2024-10-08T07:40:37.960752Z",
     "start_time": "2024-10-08T07:40:37.955313Z"
    }
   },
   "cell_type": "code",
   "source": "df['education'].mode()[0]",
   "id": "a13c98174a5a3ed5",
   "outputs": [
    {
     "data": {
      "text/plain": [
       "'secondary'"
      ]
     },
     "execution_count": 9,
     "metadata": {},
     "output_type": "execute_result"
    }
   ],
   "execution_count": 9
  },
  {
   "metadata": {},
   "cell_type": "markdown",
   "source": "# Q 2",
   "id": "d8f8bb0bc188df30"
  },
  {
   "metadata": {
    "ExecuteTime": {
     "end_time": "2024-10-08T07:40:38.046356Z",
     "start_time": "2024-10-08T07:40:38.030303Z"
    }
   },
   "cell_type": "code",
   "source": "df.info()",
   "id": "d65341fe95be7f87",
   "outputs": [
    {
     "name": "stdout",
     "output_type": "stream",
     "text": [
      "<class 'pandas.core.frame.DataFrame'>\n",
      "RangeIndex: 45211 entries, 0 to 45210\n",
      "Data columns (total 15 columns):\n",
      " #   Column     Non-Null Count  Dtype \n",
      "---  ------     --------------  ----- \n",
      " 0   age        45211 non-null  int64 \n",
      " 1   job        45211 non-null  object\n",
      " 2   marital    45211 non-null  object\n",
      " 3   education  45211 non-null  object\n",
      " 4   balance    45211 non-null  int64 \n",
      " 5   housing    45211 non-null  object\n",
      " 6   contact    45211 non-null  object\n",
      " 7   day        45211 non-null  int64 \n",
      " 8   month      45211 non-null  object\n",
      " 9   duration   45211 non-null  int64 \n",
      " 10  campaign   45211 non-null  int64 \n",
      " 11  pdays      45211 non-null  int64 \n",
      " 12  previous   45211 non-null  int64 \n",
      " 13  poutcome   45211 non-null  object\n",
      " 14  y          45211 non-null  object\n",
      "dtypes: int64(7), object(8)\n",
      "memory usage: 5.2+ MB\n"
     ]
    }
   ],
   "execution_count": 10
  },
  {
   "metadata": {
    "ExecuteTime": {
     "end_time": "2024-10-08T07:40:38.101716Z",
     "start_time": "2024-10-08T07:40:38.098564Z"
    }
   },
   "cell_type": "code",
   "source": "numeric_columns = list(df.dtypes[df.dtypes == 'int64'].index)",
   "id": "9f43b0ec54662795",
   "outputs": [],
   "execution_count": 11
  },
  {
   "metadata": {
    "ExecuteTime": {
     "end_time": "2024-10-08T07:40:38.126121Z",
     "start_time": "2024-10-08T07:40:38.113987Z"
    }
   },
   "cell_type": "code",
   "source": "df[numeric_columns].corr()",
   "id": "d2286f60ca30147f",
   "outputs": [
    {
     "data": {
      "text/plain": [
       "               age   balance       day  duration  campaign     pdays  previous\n",
       "age       1.000000  0.097783 -0.009120 -0.004648  0.004760 -0.023758  0.001288\n",
       "balance   0.097783  1.000000  0.004503  0.021560 -0.014578  0.003435  0.016674\n",
       "day      -0.009120  0.004503  1.000000 -0.030206  0.162490 -0.093044 -0.051710\n",
       "duration -0.004648  0.021560 -0.030206  1.000000 -0.084570 -0.001565  0.001203\n",
       "campaign  0.004760 -0.014578  0.162490 -0.084570  1.000000 -0.088628 -0.032855\n",
       "pdays    -0.023758  0.003435 -0.093044 -0.001565 -0.088628  1.000000  0.454820\n",
       "previous  0.001288  0.016674 -0.051710  0.001203 -0.032855  0.454820  1.000000"
      ],
      "text/html": [
       "<div>\n",
       "<style scoped>\n",
       "    .dataframe tbody tr th:only-of-type {\n",
       "        vertical-align: middle;\n",
       "    }\n",
       "\n",
       "    .dataframe tbody tr th {\n",
       "        vertical-align: top;\n",
       "    }\n",
       "\n",
       "    .dataframe thead th {\n",
       "        text-align: right;\n",
       "    }\n",
       "</style>\n",
       "<table border=\"1\" class=\"dataframe\">\n",
       "  <thead>\n",
       "    <tr style=\"text-align: right;\">\n",
       "      <th></th>\n",
       "      <th>age</th>\n",
       "      <th>balance</th>\n",
       "      <th>day</th>\n",
       "      <th>duration</th>\n",
       "      <th>campaign</th>\n",
       "      <th>pdays</th>\n",
       "      <th>previous</th>\n",
       "    </tr>\n",
       "  </thead>\n",
       "  <tbody>\n",
       "    <tr>\n",
       "      <th>age</th>\n",
       "      <td>1.000000</td>\n",
       "      <td>0.097783</td>\n",
       "      <td>-0.009120</td>\n",
       "      <td>-0.004648</td>\n",
       "      <td>0.004760</td>\n",
       "      <td>-0.023758</td>\n",
       "      <td>0.001288</td>\n",
       "    </tr>\n",
       "    <tr>\n",
       "      <th>balance</th>\n",
       "      <td>0.097783</td>\n",
       "      <td>1.000000</td>\n",
       "      <td>0.004503</td>\n",
       "      <td>0.021560</td>\n",
       "      <td>-0.014578</td>\n",
       "      <td>0.003435</td>\n",
       "      <td>0.016674</td>\n",
       "    </tr>\n",
       "    <tr>\n",
       "      <th>day</th>\n",
       "      <td>-0.009120</td>\n",
       "      <td>0.004503</td>\n",
       "      <td>1.000000</td>\n",
       "      <td>-0.030206</td>\n",
       "      <td>0.162490</td>\n",
       "      <td>-0.093044</td>\n",
       "      <td>-0.051710</td>\n",
       "    </tr>\n",
       "    <tr>\n",
       "      <th>duration</th>\n",
       "      <td>-0.004648</td>\n",
       "      <td>0.021560</td>\n",
       "      <td>-0.030206</td>\n",
       "      <td>1.000000</td>\n",
       "      <td>-0.084570</td>\n",
       "      <td>-0.001565</td>\n",
       "      <td>0.001203</td>\n",
       "    </tr>\n",
       "    <tr>\n",
       "      <th>campaign</th>\n",
       "      <td>0.004760</td>\n",
       "      <td>-0.014578</td>\n",
       "      <td>0.162490</td>\n",
       "      <td>-0.084570</td>\n",
       "      <td>1.000000</td>\n",
       "      <td>-0.088628</td>\n",
       "      <td>-0.032855</td>\n",
       "    </tr>\n",
       "    <tr>\n",
       "      <th>pdays</th>\n",
       "      <td>-0.023758</td>\n",
       "      <td>0.003435</td>\n",
       "      <td>-0.093044</td>\n",
       "      <td>-0.001565</td>\n",
       "      <td>-0.088628</td>\n",
       "      <td>1.000000</td>\n",
       "      <td>0.454820</td>\n",
       "    </tr>\n",
       "    <tr>\n",
       "      <th>previous</th>\n",
       "      <td>0.001288</td>\n",
       "      <td>0.016674</td>\n",
       "      <td>-0.051710</td>\n",
       "      <td>0.001203</td>\n",
       "      <td>-0.032855</td>\n",
       "      <td>0.454820</td>\n",
       "      <td>1.000000</td>\n",
       "    </tr>\n",
       "  </tbody>\n",
       "</table>\n",
       "</div>"
      ]
     },
     "execution_count": 12,
     "metadata": {},
     "output_type": "execute_result"
    }
   ],
   "execution_count": 12
  },
  {
   "metadata": {
    "ExecuteTime": {
     "end_time": "2024-10-08T07:40:38.179089Z",
     "start_time": "2024-10-08T07:40:38.162514Z"
    }
   },
   "cell_type": "code",
   "source": [
    "corr_matr = df[numeric_columns].corr().unstack().sort_values(ascending=False).drop_duplicates()[1:]\n",
    "corr_matr"
   ],
   "id": "9057e0ad02fa8569",
   "outputs": [
    {
     "data": {
      "text/plain": [
       "previous  pdays       0.454820\n",
       "campaign  day         0.162490\n",
       "age       balance     0.097783\n",
       "balance   duration    0.021560\n",
       "          previous    0.016674\n",
       "age       campaign    0.004760\n",
       "balance   day         0.004503\n",
       "          pdays       0.003435\n",
       "previous  age         0.001288\n",
       "duration  previous    0.001203\n",
       "pdays     duration   -0.001565\n",
       "age       duration   -0.004648\n",
       "          day        -0.009120\n",
       "balance   campaign   -0.014578\n",
       "pdays     age        -0.023758\n",
       "duration  day        -0.030206\n",
       "previous  campaign   -0.032855\n",
       "day       previous   -0.051710\n",
       "duration  campaign   -0.084570\n",
       "pdays     campaign   -0.088628\n",
       "day       pdays      -0.093044\n",
       "dtype: float64"
      ]
     },
     "execution_count": 13,
     "metadata": {},
     "output_type": "execute_result"
    }
   ],
   "execution_count": 13
  },
  {
   "metadata": {
    "ExecuteTime": {
     "end_time": "2024-10-08T07:40:38.236557Z",
     "start_time": "2024-10-08T07:40:38.228921Z"
    }
   },
   "cell_type": "code",
   "source": "df['y'].value_counts()",
   "id": "14ba0762824d7f6c",
   "outputs": [
    {
     "data": {
      "text/plain": [
       "y\n",
       "no     39922\n",
       "yes     5289\n",
       "Name: count, dtype: int64"
      ]
     },
     "execution_count": 14,
     "metadata": {},
     "output_type": "execute_result"
    }
   ],
   "execution_count": 14
  },
  {
   "metadata": {
    "ExecuteTime": {
     "end_time": "2024-10-08T07:40:38.318408Z",
     "start_time": "2024-10-08T07:40:38.310395Z"
    }
   },
   "cell_type": "code",
   "source": [
    "df['y'] = df['y'].map({'no': 0, 'yes': 1})\n",
    "df['y']"
   ],
   "id": "8bd69fde1d94c027",
   "outputs": [
    {
     "data": {
      "text/plain": [
       "0        0\n",
       "1        0\n",
       "2        0\n",
       "3        0\n",
       "4        0\n",
       "        ..\n",
       "45206    1\n",
       "45207    1\n",
       "45208    1\n",
       "45209    0\n",
       "45210    0\n",
       "Name: y, Length: 45211, dtype: int64"
      ]
     },
     "execution_count": 15,
     "metadata": {},
     "output_type": "execute_result"
    }
   ],
   "execution_count": 15
  },
  {
   "metadata": {
    "ExecuteTime": {
     "end_time": "2024-10-08T07:40:38.423022Z",
     "start_time": "2024-10-08T07:40:38.418103Z"
    }
   },
   "cell_type": "code",
   "source": "df['y'].value_counts()",
   "id": "a71f47998180c234",
   "outputs": [
    {
     "data": {
      "text/plain": [
       "y\n",
       "0    39922\n",
       "1     5289\n",
       "Name: count, dtype: int64"
      ]
     },
     "execution_count": 16,
     "metadata": {},
     "output_type": "execute_result"
    }
   ],
   "execution_count": 16
  },
  {
   "metadata": {
    "ExecuteTime": {
     "end_time": "2024-10-08T07:40:39.122766Z",
     "start_time": "2024-10-08T07:40:38.557474Z"
    }
   },
   "cell_type": "code",
   "source": "from sklearn.model_selection import train_test_split",
   "id": "7a2aace70c3c1152",
   "outputs": [],
   "execution_count": 17
  },
  {
   "metadata": {
    "ExecuteTime": {
     "end_time": "2024-10-08T07:40:39.208871Z",
     "start_time": "2024-10-08T07:40:39.192638Z"
    }
   },
   "cell_type": "code",
   "source": [
    "df_full_train, df_test = train_test_split(df, test_size=0.2, random_state=42)\n",
    "df_train, df_val = train_test_split(df_full_train, test_size=0.25, random_state=42)"
   ],
   "id": "67ca6615bbe6acd2",
   "outputs": [],
   "execution_count": 18
  },
  {
   "metadata": {
    "ExecuteTime": {
     "end_time": "2024-10-08T07:40:39.257519Z",
     "start_time": "2024-10-08T07:40:39.254088Z"
    }
   },
   "cell_type": "code",
   "source": "len(df_train), len(df_val), len(df_test)",
   "id": "e4f5b06fb02ad67b",
   "outputs": [
    {
     "data": {
      "text/plain": [
       "(27126, 9042, 9043)"
      ]
     },
     "execution_count": 19,
     "metadata": {},
     "output_type": "execute_result"
    }
   ],
   "execution_count": 19
  },
  {
   "metadata": {
    "ExecuteTime": {
     "end_time": "2024-10-08T07:40:39.289174Z",
     "start_time": "2024-10-08T07:40:39.279663Z"
    }
   },
   "cell_type": "code",
   "source": [
    "df_train = df_train.reset_index(drop=True)\n",
    "df_val = df_val.reset_index(drop=True)\n",
    "df_test = df_test.reset_index(drop=True)"
   ],
   "id": "6c0f01edd86d833b",
   "outputs": [],
   "execution_count": 20
  },
  {
   "metadata": {
    "ExecuteTime": {
     "end_time": "2024-10-08T07:40:39.312845Z",
     "start_time": "2024-10-08T07:40:39.309695Z"
    }
   },
   "cell_type": "code",
   "source": [
    "y_train = df_train['y'].values\n",
    "y_val = df_val['y'].values\n",
    "y_test = df_test['y'].values"
   ],
   "id": "531e355b3ec6810e",
   "outputs": [],
   "execution_count": 21
  },
  {
   "metadata": {
    "ExecuteTime": {
     "end_time": "2024-10-08T07:40:39.339013Z",
     "start_time": "2024-10-08T07:40:39.334629Z"
    }
   },
   "cell_type": "code",
   "source": [
    "del df_train['y']\n",
    "del df_val['y']\n",
    "del df_test['y']"
   ],
   "id": "506a5145fc1b598f",
   "outputs": [],
   "execution_count": 22
  },
  {
   "metadata": {
    "ExecuteTime": {
     "end_time": "2024-10-08T07:40:39.366297Z",
     "start_time": "2024-10-08T07:40:39.359296Z"
    }
   },
   "cell_type": "code",
   "source": "df_train.head().T",
   "id": "40789ccc84df8654",
   "outputs": [
    {
     "data": {
      "text/plain": [
       "                    0             1            2          3              4\n",
       "age                32            38           49         37             31\n",
       "job        technician  entrepreneur  blue-collar  housemaid  self-employed\n",
       "marital        single       married      married    married        married\n",
       "education    tertiary     secondary    secondary    primary       tertiary\n",
       "balance          1100             0         3309       2410           3220\n",
       "housing           yes           yes          yes         no             no\n",
       "contact      cellular      cellular     cellular   cellular       cellular\n",
       "day                11            17           15          4             26\n",
       "month             aug           nov          may        aug            aug\n",
       "duration           67           258          349        315             74\n",
       "campaign            1             1            2          1              4\n",
       "pdays              -1            -1           -1         -1             -1\n",
       "previous            0             0            0          0              0\n",
       "poutcome      unknown       unknown      unknown    unknown        unknown"
      ],
      "text/html": [
       "<div>\n",
       "<style scoped>\n",
       "    .dataframe tbody tr th:only-of-type {\n",
       "        vertical-align: middle;\n",
       "    }\n",
       "\n",
       "    .dataframe tbody tr th {\n",
       "        vertical-align: top;\n",
       "    }\n",
       "\n",
       "    .dataframe thead th {\n",
       "        text-align: right;\n",
       "    }\n",
       "</style>\n",
       "<table border=\"1\" class=\"dataframe\">\n",
       "  <thead>\n",
       "    <tr style=\"text-align: right;\">\n",
       "      <th></th>\n",
       "      <th>0</th>\n",
       "      <th>1</th>\n",
       "      <th>2</th>\n",
       "      <th>3</th>\n",
       "      <th>4</th>\n",
       "    </tr>\n",
       "  </thead>\n",
       "  <tbody>\n",
       "    <tr>\n",
       "      <th>age</th>\n",
       "      <td>32</td>\n",
       "      <td>38</td>\n",
       "      <td>49</td>\n",
       "      <td>37</td>\n",
       "      <td>31</td>\n",
       "    </tr>\n",
       "    <tr>\n",
       "      <th>job</th>\n",
       "      <td>technician</td>\n",
       "      <td>entrepreneur</td>\n",
       "      <td>blue-collar</td>\n",
       "      <td>housemaid</td>\n",
       "      <td>self-employed</td>\n",
       "    </tr>\n",
       "    <tr>\n",
       "      <th>marital</th>\n",
       "      <td>single</td>\n",
       "      <td>married</td>\n",
       "      <td>married</td>\n",
       "      <td>married</td>\n",
       "      <td>married</td>\n",
       "    </tr>\n",
       "    <tr>\n",
       "      <th>education</th>\n",
       "      <td>tertiary</td>\n",
       "      <td>secondary</td>\n",
       "      <td>secondary</td>\n",
       "      <td>primary</td>\n",
       "      <td>tertiary</td>\n",
       "    </tr>\n",
       "    <tr>\n",
       "      <th>balance</th>\n",
       "      <td>1100</td>\n",
       "      <td>0</td>\n",
       "      <td>3309</td>\n",
       "      <td>2410</td>\n",
       "      <td>3220</td>\n",
       "    </tr>\n",
       "    <tr>\n",
       "      <th>housing</th>\n",
       "      <td>yes</td>\n",
       "      <td>yes</td>\n",
       "      <td>yes</td>\n",
       "      <td>no</td>\n",
       "      <td>no</td>\n",
       "    </tr>\n",
       "    <tr>\n",
       "      <th>contact</th>\n",
       "      <td>cellular</td>\n",
       "      <td>cellular</td>\n",
       "      <td>cellular</td>\n",
       "      <td>cellular</td>\n",
       "      <td>cellular</td>\n",
       "    </tr>\n",
       "    <tr>\n",
       "      <th>day</th>\n",
       "      <td>11</td>\n",
       "      <td>17</td>\n",
       "      <td>15</td>\n",
       "      <td>4</td>\n",
       "      <td>26</td>\n",
       "    </tr>\n",
       "    <tr>\n",
       "      <th>month</th>\n",
       "      <td>aug</td>\n",
       "      <td>nov</td>\n",
       "      <td>may</td>\n",
       "      <td>aug</td>\n",
       "      <td>aug</td>\n",
       "    </tr>\n",
       "    <tr>\n",
       "      <th>duration</th>\n",
       "      <td>67</td>\n",
       "      <td>258</td>\n",
       "      <td>349</td>\n",
       "      <td>315</td>\n",
       "      <td>74</td>\n",
       "    </tr>\n",
       "    <tr>\n",
       "      <th>campaign</th>\n",
       "      <td>1</td>\n",
       "      <td>1</td>\n",
       "      <td>2</td>\n",
       "      <td>1</td>\n",
       "      <td>4</td>\n",
       "    </tr>\n",
       "    <tr>\n",
       "      <th>pdays</th>\n",
       "      <td>-1</td>\n",
       "      <td>-1</td>\n",
       "      <td>-1</td>\n",
       "      <td>-1</td>\n",
       "      <td>-1</td>\n",
       "    </tr>\n",
       "    <tr>\n",
       "      <th>previous</th>\n",
       "      <td>0</td>\n",
       "      <td>0</td>\n",
       "      <td>0</td>\n",
       "      <td>0</td>\n",
       "      <td>0</td>\n",
       "    </tr>\n",
       "    <tr>\n",
       "      <th>poutcome</th>\n",
       "      <td>unknown</td>\n",
       "      <td>unknown</td>\n",
       "      <td>unknown</td>\n",
       "      <td>unknown</td>\n",
       "      <td>unknown</td>\n",
       "    </tr>\n",
       "  </tbody>\n",
       "</table>\n",
       "</div>"
      ]
     },
     "execution_count": 23,
     "metadata": {},
     "output_type": "execute_result"
    }
   ],
   "execution_count": 23
  },
  {
   "metadata": {
    "ExecuteTime": {
     "end_time": "2024-10-08T07:40:39.414047Z",
     "start_time": "2024-10-08T07:40:39.411142Z"
    }
   },
   "cell_type": "code",
   "source": "",
   "id": "480183be049e5122",
   "outputs": [],
   "execution_count": null
  },
  {
   "metadata": {},
   "cell_type": "markdown",
   "source": "# Q 3",
   "id": "4ccabb758ca94571"
  },
  {
   "metadata": {
    "ExecuteTime": {
     "end_time": "2024-10-08T07:40:39.452097Z",
     "start_time": "2024-10-08T07:40:39.448772Z"
    }
   },
   "cell_type": "code",
   "source": "categorical_features = list(df.dtypes[df.dtypes == 'object'].index)",
   "id": "8af3a519973be712",
   "outputs": [],
   "execution_count": 24
  },
  {
   "metadata": {
    "ExecuteTime": {
     "end_time": "2024-10-08T07:40:39.502959Z",
     "start_time": "2024-10-08T07:40:39.500168Z"
    }
   },
   "cell_type": "code",
   "source": "from sklearn.metrics import mutual_info_score",
   "id": "42dc15d6f978b34c",
   "outputs": [],
   "execution_count": 25
  },
  {
   "metadata": {
    "ExecuteTime": {
     "end_time": "2024-10-08T07:40:39.766525Z",
     "start_time": "2024-10-08T07:40:39.552720Z"
    }
   },
   "cell_type": "code",
   "source": [
    "dict_scores = {}\n",
    "\n",
    "for col in categorical_features:\n",
    "    dict_scores[col] = round(mutual_info_score(df[col], df['y']), 2)\n",
    "\n",
    "dict_scores = sorted(dict_scores.items(), key=lambda x:x[1], reverse=True)"
   ],
   "id": "531773024bcd4085",
   "outputs": [],
   "execution_count": 26
  },
  {
   "metadata": {
    "ExecuteTime": {
     "end_time": "2024-10-08T07:40:39.791595Z",
     "start_time": "2024-10-08T07:40:39.787855Z"
    }
   },
   "cell_type": "code",
   "source": "dict_scores",
   "id": "9c6fab0c139d2c76",
   "outputs": [
    {
     "data": {
      "text/plain": [
       "[('poutcome', 0.03),\n",
       " ('month', 0.02),\n",
       " ('job', 0.01),\n",
       " ('housing', 0.01),\n",
       " ('contact', 0.01),\n",
       " ('marital', 0.0),\n",
       " ('education', 0.0)]"
      ]
     },
     "execution_count": 27,
     "metadata": {},
     "output_type": "execute_result"
    }
   ],
   "execution_count": 27
  },
  {
   "metadata": {},
   "cell_type": "markdown",
   "source": "# Q 4",
   "id": "201eada2b2655b82"
  },
  {
   "metadata": {
    "ExecuteTime": {
     "end_time": "2024-10-08T07:40:39.849463Z",
     "start_time": "2024-10-08T07:40:39.813288Z"
    }
   },
   "cell_type": "code",
   "source": [
    "from sklearn.feature_extraction import DictVectorizer\n",
    "from sklearn.linear_model import LogisticRegression\n",
    "from sklearn.metrics import accuracy_score"
   ],
   "id": "1f10d296e83427d6",
   "outputs": [],
   "execution_count": 28
  },
  {
   "metadata": {
    "ExecuteTime": {
     "end_time": "2024-10-08T07:40:39.873658Z",
     "start_time": "2024-10-08T07:40:39.870304Z"
    }
   },
   "cell_type": "code",
   "source": "dv = DictVectorizer(sparse=False)",
   "id": "afca66988ba01284",
   "outputs": [],
   "execution_count": 29
  },
  {
   "metadata": {
    "ExecuteTime": {
     "end_time": "2024-10-08T07:40:40.302002Z",
     "start_time": "2024-10-08T07:40:39.896123Z"
    }
   },
   "cell_type": "code",
   "source": [
    "train_dict = df_train.to_dict(orient='records')\n",
    "X_train = dv.fit_transform(train_dict)\n",
    "\n",
    "val_dict = df_val.to_dict(orient='records')\n",
    "X_val = dv.transform(val_dict)"
   ],
   "id": "541786994fd664dc",
   "outputs": [],
   "execution_count": 30
  },
  {
   "metadata": {
    "ExecuteTime": {
     "end_time": "2024-10-08T07:40:40.494881Z",
     "start_time": "2024-10-08T07:40:40.323767Z"
    }
   },
   "cell_type": "code",
   "source": [
    "model = LogisticRegression(solver='liblinear', C=10, max_iter=1000, random_state=42)\n",
    "model.fit(X_train, y_train)"
   ],
   "id": "16e8d58c538da53e",
   "outputs": [
    {
     "data": {
      "text/plain": [
       "LogisticRegression(C=10, max_iter=1000, random_state=42, solver='liblinear')"
      ],
      "text/html": [
       "<style>#sk-container-id-1 {color: black;background-color: white;}#sk-container-id-1 pre{padding: 0;}#sk-container-id-1 div.sk-toggleable {background-color: white;}#sk-container-id-1 label.sk-toggleable__label {cursor: pointer;display: block;width: 100%;margin-bottom: 0;padding: 0.3em;box-sizing: border-box;text-align: center;}#sk-container-id-1 label.sk-toggleable__label-arrow:before {content: \"▸\";float: left;margin-right: 0.25em;color: #696969;}#sk-container-id-1 label.sk-toggleable__label-arrow:hover:before {color: black;}#sk-container-id-1 div.sk-estimator:hover label.sk-toggleable__label-arrow:before {color: black;}#sk-container-id-1 div.sk-toggleable__content {max-height: 0;max-width: 0;overflow: hidden;text-align: left;background-color: #f0f8ff;}#sk-container-id-1 div.sk-toggleable__content pre {margin: 0.2em;color: black;border-radius: 0.25em;background-color: #f0f8ff;}#sk-container-id-1 input.sk-toggleable__control:checked~div.sk-toggleable__content {max-height: 200px;max-width: 100%;overflow: auto;}#sk-container-id-1 input.sk-toggleable__control:checked~label.sk-toggleable__label-arrow:before {content: \"▾\";}#sk-container-id-1 div.sk-estimator input.sk-toggleable__control:checked~label.sk-toggleable__label {background-color: #d4ebff;}#sk-container-id-1 div.sk-label input.sk-toggleable__control:checked~label.sk-toggleable__label {background-color: #d4ebff;}#sk-container-id-1 input.sk-hidden--visually {border: 0;clip: rect(1px 1px 1px 1px);clip: rect(1px, 1px, 1px, 1px);height: 1px;margin: -1px;overflow: hidden;padding: 0;position: absolute;width: 1px;}#sk-container-id-1 div.sk-estimator {font-family: monospace;background-color: #f0f8ff;border: 1px dotted black;border-radius: 0.25em;box-sizing: border-box;margin-bottom: 0.5em;}#sk-container-id-1 div.sk-estimator:hover {background-color: #d4ebff;}#sk-container-id-1 div.sk-parallel-item::after {content: \"\";width: 100%;border-bottom: 1px solid gray;flex-grow: 1;}#sk-container-id-1 div.sk-label:hover label.sk-toggleable__label {background-color: #d4ebff;}#sk-container-id-1 div.sk-serial::before {content: \"\";position: absolute;border-left: 1px solid gray;box-sizing: border-box;top: 0;bottom: 0;left: 50%;z-index: 0;}#sk-container-id-1 div.sk-serial {display: flex;flex-direction: column;align-items: center;background-color: white;padding-right: 0.2em;padding-left: 0.2em;position: relative;}#sk-container-id-1 div.sk-item {position: relative;z-index: 1;}#sk-container-id-1 div.sk-parallel {display: flex;align-items: stretch;justify-content: center;background-color: white;position: relative;}#sk-container-id-1 div.sk-item::before, #sk-container-id-1 div.sk-parallel-item::before {content: \"\";position: absolute;border-left: 1px solid gray;box-sizing: border-box;top: 0;bottom: 0;left: 50%;z-index: -1;}#sk-container-id-1 div.sk-parallel-item {display: flex;flex-direction: column;z-index: 1;position: relative;background-color: white;}#sk-container-id-1 div.sk-parallel-item:first-child::after {align-self: flex-end;width: 50%;}#sk-container-id-1 div.sk-parallel-item:last-child::after {align-self: flex-start;width: 50%;}#sk-container-id-1 div.sk-parallel-item:only-child::after {width: 0;}#sk-container-id-1 div.sk-dashed-wrapped {border: 1px dashed gray;margin: 0 0.4em 0.5em 0.4em;box-sizing: border-box;padding-bottom: 0.4em;background-color: white;}#sk-container-id-1 div.sk-label label {font-family: monospace;font-weight: bold;display: inline-block;line-height: 1.2em;}#sk-container-id-1 div.sk-label-container {text-align: center;}#sk-container-id-1 div.sk-container {/* jupyter's `normalize.less` sets `[hidden] { display: none; }` but bootstrap.min.css set `[hidden] { display: none !important; }` so we also need the `!important` here to be able to override the default hidden behavior on the sphinx rendered scikit-learn.org. See: https://github.com/scikit-learn/scikit-learn/issues/21755 */display: inline-block !important;position: relative;}#sk-container-id-1 div.sk-text-repr-fallback {display: none;}</style><div id=\"sk-container-id-1\" class=\"sk-top-container\"><div class=\"sk-text-repr-fallback\"><pre>LogisticRegression(C=10, max_iter=1000, random_state=42, solver=&#x27;liblinear&#x27;)</pre><b>In a Jupyter environment, please rerun this cell to show the HTML representation or trust the notebook. <br />On GitHub, the HTML representation is unable to render, please try loading this page with nbviewer.org.</b></div><div class=\"sk-container\" hidden><div class=\"sk-item\"><div class=\"sk-estimator sk-toggleable\"><input class=\"sk-toggleable__control sk-hidden--visually\" id=\"sk-estimator-id-1\" type=\"checkbox\" checked><label for=\"sk-estimator-id-1\" class=\"sk-toggleable__label sk-toggleable__label-arrow\">LogisticRegression</label><div class=\"sk-toggleable__content\"><pre>LogisticRegression(C=10, max_iter=1000, random_state=42, solver=&#x27;liblinear&#x27;)</pre></div></div></div></div></div>"
      ]
     },
     "execution_count": 31,
     "metadata": {},
     "output_type": "execute_result"
    }
   ],
   "execution_count": 31
  },
  {
   "metadata": {
    "ExecuteTime": {
     "end_time": "2024-10-08T07:40:40.540915Z",
     "start_time": "2024-10-08T07:40:40.528469Z"
    }
   },
   "cell_type": "code",
   "source": [
    "y_pred = model.predict(X_val)\n",
    "round(accuracy_score(y_val, y_pred), 2)"
   ],
   "id": "ccf29e2f4a59995",
   "outputs": [
    {
     "data": {
      "text/plain": [
       "0.9"
      ]
     },
     "execution_count": 32,
     "metadata": {},
     "output_type": "execute_result"
    }
   ],
   "execution_count": 32
  },
  {
   "metadata": {},
   "cell_type": "markdown",
   "source": "# Q 5",
   "id": "14520aa23d9ddb0a"
  },
  {
   "metadata": {
    "ExecuteTime": {
     "end_time": "2024-10-08T07:40:40.570408Z",
     "start_time": "2024-10-08T07:40:40.564644Z"
    }
   },
   "cell_type": "code",
   "source": "basic_accuracy = accuracy_score(y_train, model.predict(X_train))\n",
   "id": "5653a042bede39c9",
   "outputs": [],
   "execution_count": 33
  },
  {
   "metadata": {
    "ExecuteTime": {
     "end_time": "2024-10-08T07:40:40.596584Z",
     "start_time": "2024-10-08T07:40:40.591785Z"
    }
   },
   "cell_type": "code",
   "source": [
    "new_list = list(df.columns.values)\n",
    "new_list.remove('y')\n",
    "new_list"
   ],
   "id": "ad8e511648916495",
   "outputs": [
    {
     "data": {
      "text/plain": [
       "['age',\n",
       " 'job',\n",
       " 'marital',\n",
       " 'education',\n",
       " 'balance',\n",
       " 'housing',\n",
       " 'contact',\n",
       " 'day',\n",
       " 'month',\n",
       " 'duration',\n",
       " 'campaign',\n",
       " 'pdays',\n",
       " 'previous',\n",
       " 'poutcome']"
      ]
     },
     "execution_count": 34,
     "metadata": {},
     "output_type": "execute_result"
    }
   ],
   "execution_count": 34
  },
  {
   "metadata": {
    "ExecuteTime": {
     "end_time": "2024-10-08T07:40:40.625321Z",
     "start_time": "2024-10-08T07:40:40.620708Z"
    }
   },
   "cell_type": "code",
   "source": [
    "def question5_answer(data, base_accuracy):\n",
    "\n",
    "    answer = {}\n",
    "    all_features = list(data.columns.values)\n",
    "    real_features = all_features.copy()\n",
    "    real_features.remove('y')\n",
    "\n",
    "    for feature in real_features:\n",
    "\n",
    "        copy_features = all_features.copy()\n",
    "        copy_features.remove(feature)\n",
    "\n",
    "        data_full_train, data_test = train_test_split(data[copy_features], test_size=0.2, random_state=42)\n",
    "        data_train, data_val = train_test_split(data_full_train, test_size=0.25, random_state=42)\n",
    "\n",
    "        data_train = data_train.reset_index(drop=True)\n",
    "        target_train = data_train['y'].values\n",
    "\n",
    "        del data_train['y']\n",
    "\n",
    "        dv = DictVectorizer(sparse=False)\n",
    "\n",
    "        X_train = dv.fit_transform(data_train.to_dict(orient='records'))\n",
    "\n",
    "        LREG = LogisticRegression(solver='liblinear', C=10, max_iter=1000, random_state=42)\n",
    "        LREG.fit(X_train, target_train)\n",
    "        target_pred = LREG.predict(X_train)\n",
    "\n",
    "        answer[feature] = base_accuracy - accuracy_score(target_train, target_pred)\n",
    "\n",
    "\n",
    "\n",
    "    answer = sorted(answer.items(), key=lambda x:x[1], reverse=False)\n",
    "\n",
    "    return answer, answer[0], answer[0][0]"
   ],
   "id": "4095b7471e27d5c",
   "outputs": [],
   "execution_count": 35
  },
  {
   "metadata": {
    "ExecuteTime": {
     "end_time": "2024-10-08T07:40:46.919214Z",
     "start_time": "2024-10-08T07:40:40.650224Z"
    }
   },
   "cell_type": "code",
   "source": [
    "dictionary, cell, selected_feature = question5_answer(df, basic_accuracy)\n",
    "dictionary, cell, selected_feature"
   ],
   "id": "1cab445814808a61",
   "outputs": [
    {
     "data": {
      "text/plain": [
       "([('pdays', -0.0001474600014746974),\n",
       "  ('age', -0.0001105950011059953),\n",
       "  ('education', -0.0001105950011059953),\n",
       "  ('previous', 0.0),\n",
       "  ('balance', 0.00014746000147458638),\n",
       "  ('day', 0.00014746000147458638),\n",
       "  ('campaign', 0.00014746000147458638),\n",
       "  ('housing', 0.0005898400058983455),\n",
       "  ('job', 0.0007004350070043408),\n",
       "  ('marital', 0.0008478950084789272),\n",
       "  ('contact', 0.0008847600088475183),\n",
       "  ('month', 0.0011059500110593978),\n",
       "  ('poutcome', 0.007336135073361283),\n",
       "  ('duration', 0.009216250092162426)],\n",
       " ('pdays', -0.0001474600014746974),\n",
       " 'pdays')"
      ]
     },
     "execution_count": 36,
     "metadata": {},
     "output_type": "execute_result"
    }
   ],
   "execution_count": 36
  },
  {
   "metadata": {},
   "cell_type": "markdown",
   "source": "# Q 6",
   "id": "b5736f54dfa1e0c9"
  },
  {
   "metadata": {
    "ExecuteTime": {
     "end_time": "2024-10-08T07:40:46.946583Z",
     "start_time": "2024-10-08T07:40:46.943564Z"
    }
   },
   "cell_type": "code",
   "source": [
    "from sklearn.linear_model import Ridge\n",
    "from sklearn.metrics import mean_squared_error"
   ],
   "id": "24f10b5e0e0e52cf",
   "outputs": [],
   "execution_count": 37
  },
  {
   "metadata": {
    "ExecuteTime": {
     "end_time": "2024-10-08T07:40:46.983771Z",
     "start_time": "2024-10-08T07:40:46.969557Z"
    }
   },
   "cell_type": "code",
   "source": [
    "df_full_train, df_test = train_test_split(df, test_size=0.2, random_state=42)\n",
    "df_train, df_val = train_test_split(df_full_train, test_size=0.25, random_state=42)"
   ],
   "id": "89f54b2949d371b",
   "outputs": [],
   "execution_count": 38
  },
  {
   "metadata": {
    "ExecuteTime": {
     "end_time": "2024-10-08T07:40:47.011643Z",
     "start_time": "2024-10-08T07:40:47.006916Z"
    }
   },
   "cell_type": "code",
   "source": "len(df_train), len(df_val), len(df_test)",
   "id": "203b3162564ee874",
   "outputs": [
    {
     "data": {
      "text/plain": [
       "(27126, 9042, 9043)"
      ]
     },
     "execution_count": 39,
     "metadata": {},
     "output_type": "execute_result"
    }
   ],
   "execution_count": 39
  },
  {
   "metadata": {
    "ExecuteTime": {
     "end_time": "2024-10-08T07:40:47.044765Z",
     "start_time": "2024-10-08T07:40:47.034667Z"
    }
   },
   "cell_type": "code",
   "source": [
    "df_train = df_train.reset_index(drop=True)\n",
    "df_val = df_val.reset_index(drop=True)\n",
    "df_test = df_test.reset_index(drop=True)\n",
    "\n",
    "y_train = df_train['y'].values\n",
    "y_val = df_val['y'].values\n",
    "y_test = df_test['y'].values\n",
    "\n",
    "#y_train = np.log1p(y_train)\n",
    "#y_val = np.log1p(y_val)\n",
    "#y_test = np.log1p(y_test)\n",
    "\n",
    "del df_train['y']\n",
    "del df_val['y']\n",
    "del df_test['y']"
   ],
   "id": "482de7f1758b5c22",
   "outputs": [],
   "execution_count": 40
  },
  {
   "metadata": {
    "ExecuteTime": {
     "end_time": "2024-10-08T07:40:47.072590Z",
     "start_time": "2024-10-08T07:40:47.068491Z"
    }
   },
   "cell_type": "code",
   "source": [
    "cat = list(df_train.dtypes[df_train.dtypes == 'object'].index)\n",
    "num = list(df_train.dtypes[df_train.dtypes != 'object'].index)\n",
    "cat, num"
   ],
   "id": "4123f7c0f7a749dc",
   "outputs": [
    {
     "data": {
      "text/plain": [
       "(['job', 'marital', 'education', 'housing', 'contact', 'month', 'poutcome'],\n",
       " ['age', 'balance', 'day', 'duration', 'campaign', 'pdays', 'previous'])"
      ]
     },
     "execution_count": 41,
     "metadata": {},
     "output_type": "execute_result"
    }
   ],
   "execution_count": 41
  },
  {
   "metadata": {
    "ExecuteTime": {
     "end_time": "2024-10-08T07:40:47.100660Z",
     "start_time": "2024-10-08T07:40:47.097993Z"
    }
   },
   "cell_type": "code",
   "source": [
    "from sklearn.preprocessing import StandardScaler\n",
    "from sklearn.preprocessing import OneHotEncoder"
   ],
   "id": "961e1379ba170f1a",
   "outputs": [],
   "execution_count": 42
  },
  {
   "metadata": {
    "ExecuteTime": {
     "end_time": "2024-10-08T07:40:47.174204Z",
     "start_time": "2024-10-08T07:40:47.123682Z"
    }
   },
   "cell_type": "code",
   "source": [
    "scaler = StandardScaler()\n",
    "ohe = OneHotEncoder(sparse_output=False, handle_unknown='ignore')\n",
    "\n",
    "X_train_num = df_train[num].values\n",
    "X_train_num = scaler.fit_transform(X_train_num)\n",
    "\n",
    "X_train_cat = ohe.fit_transform(df_train[cat].values)\n",
    "\n",
    "X_train = np.column_stack([X_train_num, X_train_cat])\n",
    "\n",
    "X_val_num = df_val[num].values\n",
    "X_val_num = scaler.transform(X_val_num)\n",
    "\n",
    "X_val_cat = ohe.transform(df_val[cat].values)\n",
    "\n",
    "X_val = np.column_stack([X_val_num, X_val_cat])"
   ],
   "id": "b34a0e02a48c0a2d",
   "outputs": [],
   "execution_count": 43
  },
  {
   "metadata": {
    "ExecuteTime": {
     "end_time": "2024-10-08T07:40:47.202131Z",
     "start_time": "2024-10-08T07:40:47.197944Z"
    }
   },
   "cell_type": "code",
   "source": [
    "r = [0, 0.01, 0.1, 1, 10]\n",
    "rmse_dict = {}"
   ],
   "id": "ddc072412cff1900",
   "outputs": [],
   "execution_count": 44
  },
  {
   "metadata": {
    "ExecuteTime": {
     "end_time": "2024-10-08T07:40:59.089016Z",
     "start_time": "2024-10-08T07:40:47.227834Z"
    }
   },
   "cell_type": "code",
   "source": [
    "for element in r:\n",
    "\n",
    "    model = Ridge(solver='sag', alpha=element, random_state=42, max_iter=15000)\n",
    "    model.fit(X_train, y_train)\n",
    "\n",
    "    X_val_num = df_val[num].values\n",
    "    X_val_num = scaler.transform(X_val_num)\n",
    "\n",
    "    X_val_cat = ohe.transform(df_val[cat].values)\n",
    "    X_val = np.column_stack([X_val_num, X_val_cat])\n",
    "\n",
    "    y_pred = model.predict(X_val)\n",
    "\n",
    "    rmse_dict[element] = round(mean_squared_error(y_val, y_pred), 3)"
   ],
   "id": "b58730ea25535d0b",
   "outputs": [],
   "execution_count": 45
  },
  {
   "metadata": {
    "ExecuteTime": {
     "end_time": "2024-10-08T07:40:59.119417Z",
     "start_time": "2024-10-08T07:40:59.114633Z"
    }
   },
   "cell_type": "code",
   "source": [
    "answer = sorted(rmse_dict.items(), key=lambda x:x[1], reverse=False)\n",
    "print(answer, answer[0], answer[0][0])"
   ],
   "id": "bd9218c5af12f0c0",
   "outputs": [
    {
     "name": "stdout",
     "output_type": "stream",
     "text": [
      "[(0, 0.073), (0.01, 0.073), (0.1, 0.073), (1, 0.073), (10, 0.073)] (0, 0.073) 0\n"
     ]
    }
   ],
   "execution_count": 46
  }
 ],
 "metadata": {
  "kernelspec": {
   "display_name": "Python 3",
   "language": "python",
   "name": "python3"
  },
  "language_info": {
   "codemirror_mode": {
    "name": "ipython",
    "version": 2
   },
   "file_extension": ".py",
   "mimetype": "text/x-python",
   "name": "python",
   "nbconvert_exporter": "python",
   "pygments_lexer": "ipython2",
   "version": "2.7.6"
  }
 },
 "nbformat": 4,
 "nbformat_minor": 5
}
