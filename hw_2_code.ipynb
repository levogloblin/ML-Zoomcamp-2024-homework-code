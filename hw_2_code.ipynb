{
 "cells": [
  {
   "cell_type": "code",
   "id": "initial_id",
   "metadata": {
    "collapsed": true,
    "ExecuteTime": {
     "end_time": "2024-10-07T15:15:53.377859Z",
     "start_time": "2024-10-07T15:15:52.178207Z"
    }
   },
   "source": [
    "import pandas as pd\n",
    "import numpy as np\n",
    "\n",
    "import seaborn as sns\n",
    "from matplotlib import pyplot as plt\n",
    "%matplotlib inline"
   ],
   "outputs": [],
   "execution_count": 1
  },
  {
   "metadata": {
    "ExecuteTime": {
     "end_time": "2024-10-07T15:15:53.393339Z",
     "start_time": "2024-10-07T15:15:53.377859Z"
    }
   },
   "cell_type": "code",
   "source": "lapts = pd.read_csv('laptops.csv')",
   "id": "684219ff90cd4852",
   "outputs": [],
   "execution_count": 2
  },
  {
   "metadata": {
    "ExecuteTime": {
     "end_time": "2024-10-07T15:15:53.454437Z",
     "start_time": "2024-10-07T15:15:53.448921Z"
    }
   },
   "cell_type": "code",
   "source": "lapts.shape",
   "id": "9472e2d1045ae31e",
   "outputs": [
    {
     "data": {
      "text/plain": [
       "(2160, 12)"
      ]
     },
     "execution_count": 3,
     "metadata": {},
     "output_type": "execute_result"
    }
   ],
   "execution_count": 3
  },
  {
   "metadata": {
    "ExecuteTime": {
     "end_time": "2024-10-07T15:15:53.472858Z",
     "start_time": "2024-10-07T15:15:53.464177Z"
    }
   },
   "cell_type": "code",
   "source": "lapts.info()",
   "id": "8e3f72183fb33e07",
   "outputs": [
    {
     "name": "stdout",
     "output_type": "stream",
     "text": [
      "<class 'pandas.core.frame.DataFrame'>\n",
      "RangeIndex: 2160 entries, 0 to 2159\n",
      "Data columns (total 12 columns):\n",
      " #   Column        Non-Null Count  Dtype  \n",
      "---  ------        --------------  -----  \n",
      " 0   Laptop        2160 non-null   object \n",
      " 1   Status        2160 non-null   object \n",
      " 2   Brand         2160 non-null   object \n",
      " 3   Model         2160 non-null   object \n",
      " 4   CPU           2160 non-null   object \n",
      " 5   RAM           2160 non-null   int64  \n",
      " 6   Storage       2160 non-null   int64  \n",
      " 7   Storage type  2118 non-null   object \n",
      " 8   GPU           789 non-null    object \n",
      " 9   Screen        2156 non-null   float64\n",
      " 10  Touch         2160 non-null   object \n",
      " 11  Final Price   2160 non-null   float64\n",
      "dtypes: float64(2), int64(2), object(8)\n",
      "memory usage: 202.6+ KB\n"
     ]
    }
   ],
   "execution_count": 4
  },
  {
   "metadata": {
    "ExecuteTime": {
     "end_time": "2024-10-07T15:15:53.485745Z",
     "start_time": "2024-10-07T15:15:53.480701Z"
    }
   },
   "cell_type": "code",
   "source": "lapts.columns = lapts.columns.str.lower().str.replace(' ', '_')",
   "id": "451846beaa4ec07a",
   "outputs": [],
   "execution_count": 5
  },
  {
   "metadata": {
    "ExecuteTime": {
     "end_time": "2024-10-07T15:15:53.497827Z",
     "start_time": "2024-10-07T15:15:53.493353Z"
    }
   },
   "cell_type": "code",
   "source": "lapts.columns",
   "id": "a121f64a49975295",
   "outputs": [
    {
     "data": {
      "text/plain": [
       "Index(['laptop', 'status', 'brand', 'model', 'cpu', 'ram', 'storage',\n",
       "       'storage_type', 'gpu', 'screen', 'touch', 'final_price'],\n",
       "      dtype='object')"
      ]
     },
     "execution_count": 6,
     "metadata": {},
     "output_type": "execute_result"
    }
   ],
   "execution_count": 6
  },
  {
   "metadata": {
    "ExecuteTime": {
     "end_time": "2024-10-07T15:15:53.515335Z",
     "start_time": "2024-10-07T15:15:53.506652Z"
    }
   },
   "cell_type": "code",
   "source": [
    "work_columns = ['ram', 'storage', 'screen', 'final_price']\n",
    "df = lapts[work_columns]\n",
    "df.head()"
   ],
   "id": "469035257840bd71",
   "outputs": [
    {
     "data": {
      "text/plain": [
       "   ram  storage  screen  final_price\n",
       "0    8      512    15.6      1009.00\n",
       "1    8      256    15.6       299.00\n",
       "2    8      256    15.6       789.00\n",
       "3   16     1000    15.6      1199.00\n",
       "4   16      512    15.6       669.01"
      ],
      "text/html": [
       "<div>\n",
       "<style scoped>\n",
       "    .dataframe tbody tr th:only-of-type {\n",
       "        vertical-align: middle;\n",
       "    }\n",
       "\n",
       "    .dataframe tbody tr th {\n",
       "        vertical-align: top;\n",
       "    }\n",
       "\n",
       "    .dataframe thead th {\n",
       "        text-align: right;\n",
       "    }\n",
       "</style>\n",
       "<table border=\"1\" class=\"dataframe\">\n",
       "  <thead>\n",
       "    <tr style=\"text-align: right;\">\n",
       "      <th></th>\n",
       "      <th>ram</th>\n",
       "      <th>storage</th>\n",
       "      <th>screen</th>\n",
       "      <th>final_price</th>\n",
       "    </tr>\n",
       "  </thead>\n",
       "  <tbody>\n",
       "    <tr>\n",
       "      <th>0</th>\n",
       "      <td>8</td>\n",
       "      <td>512</td>\n",
       "      <td>15.6</td>\n",
       "      <td>1009.00</td>\n",
       "    </tr>\n",
       "    <tr>\n",
       "      <th>1</th>\n",
       "      <td>8</td>\n",
       "      <td>256</td>\n",
       "      <td>15.6</td>\n",
       "      <td>299.00</td>\n",
       "    </tr>\n",
       "    <tr>\n",
       "      <th>2</th>\n",
       "      <td>8</td>\n",
       "      <td>256</td>\n",
       "      <td>15.6</td>\n",
       "      <td>789.00</td>\n",
       "    </tr>\n",
       "    <tr>\n",
       "      <th>3</th>\n",
       "      <td>16</td>\n",
       "      <td>1000</td>\n",
       "      <td>15.6</td>\n",
       "      <td>1199.00</td>\n",
       "    </tr>\n",
       "    <tr>\n",
       "      <th>4</th>\n",
       "      <td>16</td>\n",
       "      <td>512</td>\n",
       "      <td>15.6</td>\n",
       "      <td>669.01</td>\n",
       "    </tr>\n",
       "  </tbody>\n",
       "</table>\n",
       "</div>"
      ]
     },
     "execution_count": 7,
     "metadata": {},
     "output_type": "execute_result"
    }
   ],
   "execution_count": 7
  },
  {
   "metadata": {
    "ExecuteTime": {
     "end_time": "2024-10-07T15:15:53.595769Z",
     "start_time": "2024-10-07T15:15:53.589102Z"
    }
   },
   "cell_type": "code",
   "source": "df.info()",
   "id": "490f565ee9fcbfb0",
   "outputs": [
    {
     "name": "stdout",
     "output_type": "stream",
     "text": [
      "<class 'pandas.core.frame.DataFrame'>\n",
      "RangeIndex: 2160 entries, 0 to 2159\n",
      "Data columns (total 4 columns):\n",
      " #   Column       Non-Null Count  Dtype  \n",
      "---  ------       --------------  -----  \n",
      " 0   ram          2160 non-null   int64  \n",
      " 1   storage      2160 non-null   int64  \n",
      " 2   screen       2156 non-null   float64\n",
      " 3   final_price  2160 non-null   float64\n",
      "dtypes: float64(2), int64(2)\n",
      "memory usage: 67.6 KB\n"
     ]
    }
   ],
   "execution_count": 8
  },
  {
   "metadata": {
    "ExecuteTime": {
     "end_time": "2024-10-07T15:15:53.854021Z",
     "start_time": "2024-10-07T15:15:53.628813Z"
    }
   },
   "cell_type": "code",
   "source": [
    "plt.figure(figsize=(6, 4))\n",
    "\n",
    "sns.histplot(df.final_price, bins=60, color='black', alpha=1)\n",
    "plt.ylabel('Frequency')\n",
    "plt.xlabel('Price of laptop')\n",
    "plt.title('Distribution of values')\n",
    "\n",
    "plt.show()"
   ],
   "id": "435106bfb5823187",
   "outputs": [
    {
     "name": "stderr",
     "output_type": "stream",
     "text": [
      "C:\\ProgramData\\anaconda3\\Lib\\site-packages\\seaborn\\_oldcore.py:1119: FutureWarning: use_inf_as_na option is deprecated and will be removed in a future version. Convert inf values to NaN before operating instead.\n",
      "  with pd.option_context('mode.use_inf_as_na', True):\n"
     ]
    },
    {
     "data": {
      "text/plain": [
       "<Figure size 600x400 with 1 Axes>"
      ],
      "image/png": "[encoded data removed]"
     },
     "metadata": {},
     "output_type": "display_data"
    }
   ],
   "execution_count": 9
  },
  {
   "metadata": {
    "ExecuteTime": {
     "end_time": "2024-10-07T15:15:53.907582Z",
     "start_time": "2024-10-07T15:15:53.904318Z"
    }
   },
   "cell_type": "code",
   "source": "",
   "id": "4fa88ef409ec97c5",
   "outputs": [],
   "execution_count": null
  },
  {
   "metadata": {},
   "cell_type": "markdown",
   "source": "# Q 1",
   "id": "28275ba39835c1b3"
  },
  {
   "metadata": {
    "ExecuteTime": {
     "end_time": "2024-10-07T15:15:53.922866Z",
     "start_time": "2024-10-07T15:15:53.916094Z"
    }
   },
   "cell_type": "code",
   "source": "df.isna().sum()",
   "id": "daaab557a0808b3f",
   "outputs": [
    {
     "data": {
      "text/plain": [
       "ram            0\n",
       "storage        0\n",
       "screen         4\n",
       "final_price    0\n",
       "dtype: int64"
      ]
     },
     "execution_count": 10,
     "metadata": {},
     "output_type": "execute_result"
    }
   ],
   "execution_count": 10
  },
  {
   "metadata": {},
   "cell_type": "markdown",
   "source": "# Q 2",
   "id": "e63b56071dca3734"
  },
  {
   "metadata": {
    "ExecuteTime": {
     "end_time": "2024-10-07T15:15:53.961231Z",
     "start_time": "2024-10-07T15:15:53.956415Z"
    }
   },
   "cell_type": "code",
   "source": "df['ram'].median()",
   "id": "d48dfc0322f7de07",
   "outputs": [
    {
     "data": {
      "text/plain": [
       "16.0"
      ]
     },
     "execution_count": 11,
     "metadata": {},
     "output_type": "execute_result"
    }
   ],
   "execution_count": 11
  },
  {
   "metadata": {
    "ExecuteTime": {
     "end_time": "2024-10-07T15:15:54.001207Z",
     "start_time": "2024-10-07T15:15:53.992608Z"
    }
   },
   "cell_type": "code",
   "source": [
    "np.random.seed(42)\n",
    "\n",
    "l = len(df)\n",
    "\n",
    "len_train = int(0.6 * l)\n",
    "len_val = int(0.2 * l)\n",
    "len_test = l - len_train - len_val\n",
    "\n",
    "idx = np.arange(l)\n",
    "np.random.shuffle(idx)\n",
    "\n",
    "df_shuffled = df.iloc[idx]\n",
    "\n",
    "df_train = df_shuffled.iloc[:len_train].copy()\n",
    "df_val = df_shuffled.iloc[len_train:len_train + len_val].copy()\n",
    "df_test = df_shuffled.iloc[len_train + len_val:].copy()\n",
    "\n",
    "y_train_orig = df_train['final_price'].values\n",
    "y_val_orig = df_val['final_price'].values\n",
    "y_test_orig = df_test['final_price'].values\n",
    "\n",
    "y_train = np.log1p(y_train_orig)\n",
    "y_val = np.log1p(y_val_orig)\n",
    "y_test = np.log1p(y_test_orig)\n",
    "\n",
    "del df_train['final_price']\n",
    "del df_val['final_price']\n",
    "del df_test['final_price']"
   ],
   "id": "e14c7df2fb7409c8",
   "outputs": [],
   "execution_count": 12
  },
  {
   "metadata": {},
   "cell_type": "markdown",
   "source": "# Q 3",
   "id": "5ea9e63afbd07d3a"
  },
  {
   "metadata": {
    "ExecuteTime": {
     "end_time": "2024-10-07T15:15:54.036887Z",
     "start_time": "2024-10-07T15:15:54.032151Z"
    }
   },
   "cell_type": "code",
   "source": [
    "# filling missings function\n",
    "def fill_missing(df_train, df_val, df_test, value):\n",
    "    df_train_new = df_train.fillna(value).values\n",
    "    df_val_new = df_val.fillna(value).values\n",
    "    df_test_new = df_test.fillna(value).values\n",
    "    return df_train_new, df_val_new, df_test_new"
   ],
   "id": "8252c26b06083b41",
   "outputs": [],
   "execution_count": 13
  },
  {
   "metadata": {
    "ExecuteTime": {
     "end_time": "2024-10-07T15:15:54.084338Z",
     "start_time": "2024-10-07T15:15:54.079694Z"
    }
   },
   "cell_type": "code",
   "source": [
    "# function for calculating weights of linear regression\n",
    "def train_linear_regression(X, y):\n",
    "    ones = np.ones(X.shape[0])\n",
    "    X = np.column_stack([ones, X])\n",
    "\n",
    "    XTX = X.T.dot(X)\n",
    "    XTX_inv = np.linalg.inv(XTX)\n",
    "    w = XTX_inv.dot(X.T).dot(y)\n",
    "\n",
    "    return w[0], w[1:]"
   ],
   "id": "da6e505633244c2c",
   "outputs": [],
   "execution_count": 14
  },
  {
   "metadata": {
    "ExecuteTime": {
     "end_time": "2024-10-07T15:15:54.109233Z",
     "start_time": "2024-10-07T15:15:54.105725Z"
    }
   },
   "cell_type": "code",
   "source": [
    "# getting predictions\n",
    "def get_prediction(w0_0, w_0, df):\n",
    "    return w0_0 + df.dot(w_0)"
   ],
   "id": "57c596a50d6dcaf4",
   "outputs": [],
   "execution_count": 15
  },
  {
   "metadata": {
    "ExecuteTime": {
     "end_time": "2024-10-07T15:15:54.132319Z",
     "start_time": "2024-10-07T15:15:54.128290Z"
    }
   },
   "cell_type": "code",
   "source": [
    "# function for RMSE\n",
    "def rmse(y, y_pred):\n",
    "    error = y_pred - y\n",
    "    mse = (error ** 2).mean()\n",
    "    return round(np.sqrt(mse), 2)"
   ],
   "id": "6a8e9910bba2efdd",
   "outputs": [],
   "execution_count": 16
  },
  {
   "metadata": {
    "ExecuteTime": {
     "end_time": "2024-10-07T15:15:54.163269Z",
     "start_time": "2024-10-07T15:15:54.155867Z"
    }
   },
   "cell_type": "code",
   "source": [
    "df_train_new, df_val_new, df_test_new = fill_missing(df_train, df_val, df_test, 0)\n",
    "w0_0, w_0 = train_linear_regression(df_train_new, y_train)\n",
    "y_pred = get_prediction(w0_0, w_0, df_val_new)\n",
    "rmse(y_val, y_pred)"
   ],
   "id": "b4330871ea29cbde",
   "outputs": [
    {
     "data": {
      "text/plain": [
       "0.43"
      ]
     },
     "execution_count": 17,
     "metadata": {},
     "output_type": "execute_result"
    }
   ],
   "execution_count": 17
  },
  {
   "metadata": {
    "ExecuteTime": {
     "end_time": "2024-10-07T15:16:15.520009Z",
     "start_time": "2024-10-07T15:16:15.502755Z"
    }
   },
   "cell_type": "code",
   "source": [
    "fp_med_train = np.median(y_train)\n",
    "df_train_med, df_val_med, df_test_med = fill_missing(df_train, df_val, df_test, fp_med_train)\n",
    "w0_0, w_0 = train_linear_regression(df_train_new, y_train)\n",
    "y_pred = get_prediction(w0_0, w_0, df_val_new)\n",
    "rmse(y_val, y_pred)"
   ],
   "id": "520b22f81f387954",
   "outputs": [
    {
     "data": {
      "text/plain": [
       "0.43"
      ]
     },
     "execution_count": 19,
     "metadata": {},
     "output_type": "execute_result"
    }
   ],
   "execution_count": 19
  },
  {
   "metadata": {},
   "cell_type": "markdown",
   "source": "# Q 4",
   "id": "59edd7483cc80401"
  },
  {
   "metadata": {
    "ExecuteTime": {
     "end_time": "2024-10-07T15:17:23.463393Z",
     "start_time": "2024-10-07T15:17:23.450722Z"
    }
   },
   "cell_type": "code",
   "source": [
    "# function for linear regression with regularization\n",
    "def train_linear_regression_reg(X, y, r=0.0):\n",
    "    ones = np.ones(X.shape[0])\n",
    "    X = np.column_stack([ones, X])\n",
    "\n",
    "    XTX = X.T.dot(X)\n",
    "    reg = r * np.eye(XTX.shape[0])\n",
    "    XTX = XTX + reg\n",
    "\n",
    "    XTX_inv = np.linalg.inv(XTX)\n",
    "    w = XTX_inv.dot(X.T).dot(y)\n",
    "\n",
    "    return w[0], w[1:]"
   ],
   "id": "926c28415ef8560b",
   "outputs": [],
   "execution_count": 20
  },
  {
   "metadata": {
    "ExecuteTime": {
     "end_time": "2024-10-07T15:19:25.510127Z",
     "start_time": "2024-10-07T15:19:25.500859Z"
    }
   },
   "cell_type": "code",
   "source": "r_list = [0, 0.01, 0.1, 1, 5, 10, 100]",
   "id": "f118457872eb0e46",
   "outputs": [],
   "execution_count": 26
  },
  {
   "metadata": {
    "ExecuteTime": {
     "end_time": "2024-10-07T15:19:26.520204Z",
     "start_time": "2024-10-07T15:19:26.515998Z"
    }
   },
   "cell_type": "code",
   "source": [
    "def answer_question4(X, y, X_val, y_val, r_list):\n",
    "    min_rmse = 10**10\n",
    "    min_r = 10**10\n",
    "    for r in r_list:\n",
    "        w_0, w = train_linear_regression_reg(X, y, r)\n",
    "        y_val_pred = w_0 + X_val.dot(w)\n",
    "        rmse_r = round(rmse(y_val, y_val_pred), 2)\n",
    "        if rmse_r < min_rmse:\n",
    "            min_rmse = rmse_r\n",
    "            min_r = [r]\n",
    "            w0_best = w_0\n",
    "            w_best = w\n",
    "    return min_rmse, min_r, w0_best, w_best"
   ],
   "id": "2c26fa175f898796",
   "outputs": [],
   "execution_count": 27
  },
  {
   "metadata": {
    "ExecuteTime": {
     "end_time": "2024-10-07T15:19:27.840301Z",
     "start_time": "2024-10-07T15:19:27.818460Z"
    }
   },
   "cell_type": "code",
   "source": "best_rmse, min_r, w_0, w = answer_question4(df_train_new, y_train, df_val_new, y_val, r_list)",
   "id": "f5ae4799e01c5c3c",
   "outputs": [],
   "execution_count": 28
  },
  {
   "metadata": {
    "ExecuteTime": {
     "end_time": "2024-10-07T15:19:28.973137Z",
     "start_time": "2024-10-07T15:19:28.964152Z"
    }
   },
   "cell_type": "code",
   "source": "min_r",
   "id": "150f4a3d8137d604",
   "outputs": [
    {
     "data": {
      "text/plain": [
       "[0]"
      ]
     },
     "execution_count": 29,
     "metadata": {},
     "output_type": "execute_result"
    }
   ],
   "execution_count": 29
  },
  {
   "metadata": {
    "ExecuteTime": {
     "end_time": "2024-10-07T15:20:08.294669Z",
     "start_time": "2024-10-07T15:20:08.276298Z"
    }
   },
   "cell_type": "code",
   "source": [
    "def answer_question4_2(X_val, y_val, r_list):\n",
    "    min_rmse = 10**100\n",
    "    min_r = 10**100\n",
    "    for r in r_list:\n",
    "        w_0, w = train_linear_regression_reg(X_val, y_val, r)\n",
    "        y_val_pred = w_0 + X_val.dot(w)\n",
    "        rmse_r = round(rmse(y_val, y_val_pred), 2)\n",
    "        print(r, ' - ', rmse_r)\n",
    "        if rmse_r < min_rmse:\n",
    "            min_rmse = rmse_r\n",
    "            min_r = [r]\n",
    "            w0_best = w_0\n",
    "            w_best = w\n",
    "        if rmse_r == min_rmse:\n",
    "            min_r.append(r)\n",
    "    return min_rmse, min(min_r), w0_best, w_best"
   ],
   "id": "9886e41c2f8006e6",
   "outputs": [],
   "execution_count": 31
  },
  {
   "metadata": {
    "ExecuteTime": {
     "end_time": "2024-10-07T15:20:14.844589Z",
     "start_time": "2024-10-07T15:20:14.836332Z"
    }
   },
   "cell_type": "code",
   "source": [
    "best_rmse, min_r, w_0, w = answer_question4_2(df_val_new, y_val, r_list)\n",
    "min_r"
   ],
   "id": "3beae31aadea4d0",
   "outputs": [
    {
     "name": "stdout",
     "output_type": "stream",
     "text": [
      "0  -  0.42\n",
      "0.01  -  0.42\n",
      "0.1  -  0.42\n",
      "1  -  0.44\n",
      "5  -  0.54\n",
      "10  -  0.6\n",
      "100  -  0.7\n"
     ]
    },
    {
     "data": {
      "text/plain": [
       "0"
      ]
     },
     "execution_count": 33,
     "metadata": {},
     "output_type": "execute_result"
    }
   ],
   "execution_count": 33
  },
  {
   "metadata": {},
   "cell_type": "markdown",
   "source": "# Q 5",
   "id": "75abfaf429b92855"
  },
  {
   "metadata": {
    "ExecuteTime": {
     "end_time": "2024-10-07T15:28:41.224067Z",
     "start_time": "2024-10-07T15:28:41.207942Z"
    }
   },
   "cell_type": "code",
   "source": [
    "def question5_answer(df, seed_list):\n",
    "    val_scores = []\n",
    "    for seed in seed_list:\n",
    "        np.random.seed(seed)\n",
    "\n",
    "        l = len(df)\n",
    "\n",
    "        len_train = int(0.6 * l)\n",
    "        len_val = int(0.2 * l)\n",
    "        len_test = l - len_train - len_val\n",
    "\n",
    "        idx = np.arange(l)\n",
    "        np.random.shuffle(idx)\n",
    "\n",
    "        df_shuffled = df.iloc[idx]\n",
    "\n",
    "        df_train = df_shuffled.iloc[:len_train].copy()\n",
    "        df_val = df_shuffled.iloc[len_train:len_train + len_val].copy()\n",
    "        df_test = df_shuffled.iloc[len_train + len_val:].copy()\n",
    "\n",
    "        y_train_orig = df_train['final_price'].values\n",
    "        y_val_orig = df_val['final_price'].values\n",
    "        y_test_orig = df_test['final_price'].values\n",
    "\n",
    "        y_train = y_train_orig\n",
    "        y_val = y_val_orig\n",
    "        y_test = y_test_orig\n",
    "\n",
    "        del df_train['final_price']\n",
    "        del df_val['final_price']\n",
    "        del df_test['final_price']\n",
    "\n",
    "        X_train = df_train.fillna(0).values\n",
    "        X_val = df_val.fillna(0).values\n",
    "        X_test = df_test.fillna(0).values\n",
    "\n",
    "        w_0, w = train_linear_regression(X_train, y_train)\n",
    "        y_pred = w_0 + X_val.dot(w)\n",
    "        val_scores.append(rmse(y_val, y_pred))\n",
    "    return val_scores"
   ],
   "id": "b0984d77ead1cf4f",
   "outputs": [],
   "execution_count": 41
  },
  {
   "metadata": {
    "ExecuteTime": {
     "end_time": "2024-10-07T15:28:43.689635Z",
     "start_time": "2024-10-07T15:28:43.676693Z"
    }
   },
   "cell_type": "code",
   "source": "seed_list = [0, 1, 2, 3, 4, 5, 6, 7, 8, 9]",
   "id": "92816fb1246667bc",
   "outputs": [],
   "execution_count": 42
  },
  {
   "metadata": {
    "ExecuteTime": {
     "end_time": "2024-10-07T15:28:45.214790Z",
     "start_time": "2024-10-07T15:28:45.189732Z"
    }
   },
   "cell_type": "code",
   "source": [
    "val_scores = question5_answer(df, seed_list)\n",
    "val_scores"
   ],
   "id": "136202177c83aeae",
   "outputs": [
    {
     "data": {
      "text/plain": [
       "[565.45, 636.8, 588.96, 597.81, 571.96, 573.24, 647.34, 550.44, 587.33, 576.1]"
      ]
     },
     "execution_count": 43,
     "metadata": {},
     "output_type": "execute_result"
    }
   ],
   "execution_count": 43
  },
  {
   "metadata": {
    "ExecuteTime": {
     "end_time": "2024-10-07T15:28:47.705301Z",
     "start_time": "2024-10-07T15:28:47.700291Z"
    }
   },
   "cell_type": "code",
   "source": "print(round(np.std(val_scores), 3))",
   "id": "80f47db2e94822f5",
   "outputs": [
    {
     "name": "stdout",
     "output_type": "stream",
     "text": [
      "29.176\n"
     ]
    }
   ],
   "execution_count": 44
  },
  {
   "metadata": {},
   "cell_type": "markdown",
   "source": "# Q 6",
   "id": "f8781bf371563757"
  },
  {
   "metadata": {
    "ExecuteTime": {
     "end_time": "2024-10-07T15:30:29.697278Z",
     "start_time": "2024-10-07T15:30:29.681862Z"
    }
   },
   "cell_type": "code",
   "source": [
    "def question6_answer(df, seed, r):\n",
    "    np.random.seed(seed)\n",
    "\n",
    "    l = len(df)\n",
    "\n",
    "    len_train = int(0.6 * l)\n",
    "    len_val = int(0.2 * l)\n",
    "    len_test = l - len_train - len_val\n",
    "\n",
    "    idx = np.arange(l)\n",
    "    np.random.shuffle(idx)\n",
    "\n",
    "    df_shuffled = df.iloc[idx]\n",
    "\n",
    "    df_train = df_shuffled.iloc[:len_train].copy()\n",
    "    df_val = df_shuffled.iloc[len_train:len_train + len_val].copy()\n",
    "    df_test = df_shuffled.iloc[len_train + len_val:].copy()\n",
    "\n",
    "    df_train = pd.concat([df_train, df_val], ignore_index=True)\n",
    "\n",
    "    y_train = df_train['final_price'].values\n",
    "    y_test = df_test['final_price'].values\n",
    "\n",
    "    del df_train['final_price']\n",
    "    del df_test['final_price']\n",
    "\n",
    "    X_train = df_train.fillna(0).values\n",
    "    X_test = df_test.fillna(0).values\n",
    "\n",
    "    w_0, w = train_linear_regression_reg(X_train, y_train, r)\n",
    "    y_pred = w_0 + X_test.dot(w)\n",
    "    return rmse(y_test, y_pred)"
   ],
   "id": "ab338920c809f6ea",
   "outputs": [],
   "execution_count": 45
  },
  {
   "metadata": {
    "ExecuteTime": {
     "end_time": "2024-10-07T15:30:55.748805Z",
     "start_time": "2024-10-07T15:30:55.727082Z"
    }
   },
   "cell_type": "code",
   "source": "answer = question6_answer(df, 9, 0.001)",
   "id": "2ab9babc751c7459",
   "outputs": [],
   "execution_count": 46
  },
  {
   "metadata": {
    "ExecuteTime": {
     "end_time": "2024-10-07T15:31:05.659949Z",
     "start_time": "2024-10-07T15:31:05.639920Z"
    }
   },
   "cell_type": "code",
   "source": "answer, round(answer, 2)",
   "id": "785caadc2603923d",
   "outputs": [
    {
     "data": {
      "text/plain": [
       "(608.61, 608.61)"
      ]
     },
     "execution_count": 47,
     "metadata": {},
     "output_type": "execute_result"
    }
   ],
   "execution_count": 47
  }
 ],
 "metadata": {
  "kernelspec": {
   "display_name": "Python 3",
   "language": "python",
   "name": "python3"
  },
  "language_info": {
   "codemirror_mode": {
    "name": "ipython",
    "version": 2
   },
   "file_extension": ".py",
   "mimetype": "text/x-python",
   "name": "python",
   "nbconvert_exporter": "python",
   "pygments_lexer": "ipython2",
   "version": "2.7.6"
  }
 },
 "nbformat": 4,
 "nbformat_minor": 5
}
