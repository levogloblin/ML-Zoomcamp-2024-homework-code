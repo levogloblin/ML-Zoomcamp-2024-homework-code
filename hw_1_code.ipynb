{
 "cells": [
  {
   "cell_type": "code",
   "id": "initial_id",
   "metadata": {
    "collapsed": true,
    "ExecuteTime": {
     "end_time": "2024-09-21T00:24:57.928390Z",
     "start_time": "2024-09-21T00:24:56.760789Z"
    }
   },
   "source": [
    "import pandas as pd\n",
    "import numpy as np"
   ],
   "outputs": [],
   "execution_count": 1
  },
  {
   "metadata": {},
   "cell_type": "markdown",
   "source": "# Q 1",
   "id": "59077da52f44cbe"
  },
  {
   "metadata": {
    "ExecuteTime": {
     "end_time": "2024-09-21T00:24:57.953183Z",
     "start_time": "2024-09-21T00:24:57.946385Z"
    }
   },
   "cell_type": "code",
   "source": "pd.__version__",
   "id": "de038755b267198d",
   "outputs": [
    {
     "data": {
      "text/plain": [
       "'2.1.4'"
      ]
     },
     "execution_count": 2,
     "metadata": {},
     "output_type": "execute_result"
    }
   ],
   "execution_count": 2
  },
  {
   "metadata": {
    "ExecuteTime": {
     "end_time": "2024-09-21T00:24:58.369043Z",
     "start_time": "2024-09-21T00:24:58.345580Z"
    }
   },
   "cell_type": "code",
   "source": "df = pd.read_csv('laptops.csv')",
   "id": "3696e1a20259bb08",
   "outputs": [],
   "execution_count": 3
  },
  {
   "metadata": {},
   "cell_type": "markdown",
   "source": "# Q 2",
   "id": "292c698ed74d235c"
  },
  {
   "metadata": {
    "ExecuteTime": {
     "end_time": "2024-09-21T00:24:58.442058Z",
     "start_time": "2024-09-21T00:24:58.437274Z"
    }
   },
   "cell_type": "code",
   "source": "df.shape",
   "id": "d99594852fa0fc6a",
   "outputs": [
    {
     "data": {
      "text/plain": [
       "(2160, 12)"
      ]
     },
     "execution_count": 4,
     "metadata": {},
     "output_type": "execute_result"
    }
   ],
   "execution_count": 4
  },
  {
   "metadata": {},
   "cell_type": "markdown",
   "source": "# Q 3",
   "id": "fef6961da8c6583d"
  },
  {
   "metadata": {
    "ExecuteTime": {
     "end_time": "2024-09-21T00:24:58.567722Z",
     "start_time": "2024-09-21T00:24:58.555040Z"
    }
   },
   "cell_type": "code",
   "source": "df.head()",
   "id": "3d7500d9568a4fac",
   "outputs": [
    {
     "data": {
      "text/plain": [
       "                                              Laptop Status   Brand  \\\n",
       "0  ASUS ExpertBook B1 B1502CBA-EJ0436X Intel Core...    New    Asus   \n",
       "1  Alurin Go Start Intel Celeron N4020/8GB/256GB ...    New  Alurin   \n",
       "2  ASUS ExpertBook B1 B1502CBA-EJ0424X Intel Core...    New    Asus   \n",
       "3  MSI Katana GF66 12UC-082XES Intel Core i7-1270...    New     MSI   \n",
       "4  HP 15S-FQ5085NS Intel Core i5-1235U/16GB/512GB...    New      HP   \n",
       "\n",
       "        Model            CPU  RAM  Storage Storage type       GPU  Screen  \\\n",
       "0  ExpertBook  Intel Core i5    8      512          SSD       NaN    15.6   \n",
       "1          Go  Intel Celeron    8      256          SSD       NaN    15.6   \n",
       "2  ExpertBook  Intel Core i3    8      256          SSD       NaN    15.6   \n",
       "3      Katana  Intel Core i7   16     1000          SSD  RTX 3050    15.6   \n",
       "4         15S  Intel Core i5   16      512          SSD       NaN    15.6   \n",
       "\n",
       "  Touch  Final Price  \n",
       "0    No      1009.00  \n",
       "1    No       299.00  \n",
       "2    No       789.00  \n",
       "3    No      1199.00  \n",
       "4    No       669.01  "
      ],
      "text/html": [
       "<div>\n",
       "<style scoped>\n",
       "    .dataframe tbody tr th:only-of-type {\n",
       "        vertical-align: middle;\n",
       "    }\n",
       "\n",
       "    .dataframe tbody tr th {\n",
       "        vertical-align: top;\n",
       "    }\n",
       "\n",
       "    .dataframe thead th {\n",
       "        text-align: right;\n",
       "    }\n",
       "</style>\n",
       "<table border=\"1\" class=\"dataframe\">\n",
       "  <thead>\n",
       "    <tr style=\"text-align: right;\">\n",
       "      <th></th>\n",
       "      <th>Laptop</th>\n",
       "      <th>Status</th>\n",
       "      <th>Brand</th>\n",
       "      <th>Model</th>\n",
       "      <th>CPU</th>\n",
       "      <th>RAM</th>\n",
       "      <th>Storage</th>\n",
       "      <th>Storage type</th>\n",
       "      <th>GPU</th>\n",
       "      <th>Screen</th>\n",
       "      <th>Touch</th>\n",
       "      <th>Final Price</th>\n",
       "    </tr>\n",
       "  </thead>\n",
       "  <tbody>\n",
       "    <tr>\n",
       "      <th>0</th>\n",
       "      <td>ASUS ExpertBook B1 B1502CBA-EJ0436X Intel Core...</td>\n",
       "      <td>New</td>\n",
       "      <td>Asus</td>\n",
       "      <td>ExpertBook</td>\n",
       "      <td>Intel Core i5</td>\n",
       "      <td>8</td>\n",
       "      <td>512</td>\n",
       "      <td>SSD</td>\n",
       "      <td>NaN</td>\n",
       "      <td>15.6</td>\n",
       "      <td>No</td>\n",
       "      <td>1009.00</td>\n",
       "    </tr>\n",
       "    <tr>\n",
       "      <th>1</th>\n",
       "      <td>Alurin Go Start Intel Celeron N4020/8GB/256GB ...</td>\n",
       "      <td>New</td>\n",
       "      <td>Alurin</td>\n",
       "      <td>Go</td>\n",
       "      <td>Intel Celeron</td>\n",
       "      <td>8</td>\n",
       "      <td>256</td>\n",
       "      <td>SSD</td>\n",
       "      <td>NaN</td>\n",
       "      <td>15.6</td>\n",
       "      <td>No</td>\n",
       "      <td>299.00</td>\n",
       "    </tr>\n",
       "    <tr>\n",
       "      <th>2</th>\n",
       "      <td>ASUS ExpertBook B1 B1502CBA-EJ0424X Intel Core...</td>\n",
       "      <td>New</td>\n",
       "      <td>Asus</td>\n",
       "      <td>ExpertBook</td>\n",
       "      <td>Intel Core i3</td>\n",
       "      <td>8</td>\n",
       "      <td>256</td>\n",
       "      <td>SSD</td>\n",
       "      <td>NaN</td>\n",
       "      <td>15.6</td>\n",
       "      <td>No</td>\n",
       "      <td>789.00</td>\n",
       "    </tr>\n",
       "    <tr>\n",
       "      <th>3</th>\n",
       "      <td>MSI Katana GF66 12UC-082XES Intel Core i7-1270...</td>\n",
       "      <td>New</td>\n",
       "      <td>MSI</td>\n",
       "      <td>Katana</td>\n",
       "      <td>Intel Core i7</td>\n",
       "      <td>16</td>\n",
       "      <td>1000</td>\n",
       "      <td>SSD</td>\n",
       "      <td>RTX 3050</td>\n",
       "      <td>15.6</td>\n",
       "      <td>No</td>\n",
       "      <td>1199.00</td>\n",
       "    </tr>\n",
       "    <tr>\n",
       "      <th>4</th>\n",
       "      <td>HP 15S-FQ5085NS Intel Core i5-1235U/16GB/512GB...</td>\n",
       "      <td>New</td>\n",
       "      <td>HP</td>\n",
       "      <td>15S</td>\n",
       "      <td>Intel Core i5</td>\n",
       "      <td>16</td>\n",
       "      <td>512</td>\n",
       "      <td>SSD</td>\n",
       "      <td>NaN</td>\n",
       "      <td>15.6</td>\n",
       "      <td>No</td>\n",
       "      <td>669.01</td>\n",
       "    </tr>\n",
       "  </tbody>\n",
       "</table>\n",
       "</div>"
      ]
     },
     "execution_count": 5,
     "metadata": {},
     "output_type": "execute_result"
    }
   ],
   "execution_count": 5
  },
  {
   "metadata": {
    "ExecuteTime": {
     "end_time": "2024-09-21T00:24:58.642592Z",
     "start_time": "2024-09-21T00:24:58.635981Z"
    }
   },
   "cell_type": "code",
   "source": "df['Brand'].nunique()",
   "id": "27e7a15faaf77b2b",
   "outputs": [
    {
     "data": {
      "text/plain": [
       "27"
      ]
     },
     "execution_count": 6,
     "metadata": {},
     "output_type": "execute_result"
    }
   ],
   "execution_count": 6
  },
  {
   "metadata": {},
   "cell_type": "markdown",
   "source": "# Q 4",
   "id": "dd728d170ff6cf35"
  },
  {
   "metadata": {
    "ExecuteTime": {
     "end_time": "2024-09-21T00:24:58.692218Z",
     "start_time": "2024-09-21T00:24:58.684832Z"
    }
   },
   "cell_type": "code",
   "source": "df.isna().sum()",
   "id": "61e2b9848743cdb7",
   "outputs": [
    {
     "data": {
      "text/plain": [
       "Laptop             0\n",
       "Status             0\n",
       "Brand              0\n",
       "Model              0\n",
       "CPU                0\n",
       "RAM                0\n",
       "Storage            0\n",
       "Storage type      42\n",
       "GPU             1371\n",
       "Screen             4\n",
       "Touch              0\n",
       "Final Price        0\n",
       "dtype: int64"
      ]
     },
     "execution_count": 7,
     "metadata": {},
     "output_type": "execute_result"
    }
   ],
   "execution_count": 7
  },
  {
   "metadata": {},
   "cell_type": "markdown",
   "source": "# Q 5",
   "id": "661a6605e83b90f2"
  },
  {
   "metadata": {
    "ExecuteTime": {
     "end_time": "2024-09-21T00:24:58.752022Z",
     "start_time": "2024-09-21T00:24:58.742753Z"
    }
   },
   "cell_type": "code",
   "source": "max_dell_price = df.query('Brand == \"Dell\"')['Final Price'].max()",
   "id": "1a985fdc5e6a316a",
   "outputs": [],
   "execution_count": 8
  },
  {
   "metadata": {
    "ExecuteTime": {
     "end_time": "2024-09-21T00:24:58.848918Z",
     "start_time": "2024-09-21T00:24:58.841362Z"
    }
   },
   "cell_type": "code",
   "source": "df.query('Brand == \"Dell\"')['Final Price'].describe()",
   "id": "128b40d323d26d8a",
   "outputs": [
    {
     "data": {
      "text/plain": [
       "count      84.000000\n",
       "mean     1153.839881\n",
       "std       671.795071\n",
       "min       379.000000\n",
       "25%       699.000000\n",
       "50%      1003.000000\n",
       "75%      1313.810000\n",
       "max      3936.000000\n",
       "Name: Final Price, dtype: float64"
      ]
     },
     "execution_count": 9,
     "metadata": {},
     "output_type": "execute_result"
    }
   ],
   "execution_count": 9
  },
  {
   "metadata": {
    "ExecuteTime": {
     "end_time": "2024-09-21T00:24:58.977360Z",
     "start_time": "2024-09-21T00:24:58.970891Z"
    }
   },
   "cell_type": "code",
   "source": "max_dell_price == df.query('Brand == \"Dell\"')['Final Price'].max()",
   "id": "310dcd9c542d69ef",
   "outputs": [
    {
     "data": {
      "text/plain": [
       "True"
      ]
     },
     "execution_count": 10,
     "metadata": {},
     "output_type": "execute_result"
    }
   ],
   "execution_count": 10
  },
  {
   "metadata": {},
   "cell_type": "markdown",
   "source": "# Q 6",
   "id": "a9f071b1bb0cf8f"
  },
  {
   "metadata": {
    "ExecuteTime": {
     "end_time": "2024-09-21T00:24:59.037282Z",
     "start_time": "2024-09-21T00:24:59.033502Z"
    }
   },
   "cell_type": "code",
   "source": [
    "screen_med = df['Screen'].median()\n",
    "screen_mode = df['Screen'].mode()[0]"
   ],
   "id": "d2f9fce77700e346",
   "outputs": [],
   "execution_count": 11
  },
  {
   "metadata": {
    "ExecuteTime": {
     "end_time": "2024-09-21T00:24:59.116719Z",
     "start_time": "2024-09-21T00:24:59.110583Z"
    }
   },
   "cell_type": "code",
   "source": "screen_mode",
   "id": "bfcd0bc80092d5b7",
   "outputs": [
    {
     "data": {
      "text/plain": [
       "15.6"
      ]
     },
     "execution_count": 12,
     "metadata": {},
     "output_type": "execute_result"
    }
   ],
   "execution_count": 12
  },
  {
   "metadata": {
    "ExecuteTime": {
     "end_time": "2024-09-21T00:24:59.180296Z",
     "start_time": "2024-09-21T00:24:59.176176Z"
    }
   },
   "cell_type": "code",
   "source": "df['Screen'].fillna(screen_mode, inplace=True)",
   "id": "c328174bd19eb7be",
   "outputs": [],
   "execution_count": 13
  },
  {
   "metadata": {
    "ExecuteTime": {
     "end_time": "2024-09-21T00:24:59.239841Z",
     "start_time": "2024-09-21T00:24:59.230392Z"
    }
   },
   "cell_type": "code",
   "source": "df.info()",
   "id": "dc7bcc9a75f31902",
   "outputs": [
    {
     "name": "stdout",
     "output_type": "stream",
     "text": [
      "<class 'pandas.core.frame.DataFrame'>\n",
      "RangeIndex: 2160 entries, 0 to 2159\n",
      "Data columns (total 12 columns):\n",
      " #   Column        Non-Null Count  Dtype  \n",
      "---  ------        --------------  -----  \n",
      " 0   Laptop        2160 non-null   object \n",
      " 1   Status        2160 non-null   object \n",
      " 2   Brand         2160 non-null   object \n",
      " 3   Model         2160 non-null   object \n",
      " 4   CPU           2160 non-null   object \n",
      " 5   RAM           2160 non-null   int64  \n",
      " 6   Storage       2160 non-null   int64  \n",
      " 7   Storage type  2118 non-null   object \n",
      " 8   GPU           789 non-null    object \n",
      " 9   Screen        2160 non-null   float64\n",
      " 10  Touch         2160 non-null   object \n",
      " 11  Final Price   2160 non-null   float64\n",
      "dtypes: float64(2), int64(2), object(8)\n",
      "memory usage: 202.6+ KB\n"
     ]
    }
   ],
   "execution_count": 14
  },
  {
   "metadata": {
    "ExecuteTime": {
     "end_time": "2024-09-21T00:24:59.289262Z",
     "start_time": "2024-09-21T00:24:59.284920Z"
    }
   },
   "cell_type": "code",
   "source": "df['Screen'].median() == screen_med",
   "id": "77175f292b2b457a",
   "outputs": [
    {
     "data": {
      "text/plain": [
       "True"
      ]
     },
     "execution_count": 16,
     "metadata": {},
     "output_type": "execute_result"
    }
   ],
   "execution_count": 16
  },
  {
   "metadata": {},
   "cell_type": "markdown",
   "source": "# Q 7",
   "id": "561940894fc9654c"
  },
  {
   "metadata": {
    "ExecuteTime": {
     "end_time": "2024-09-21T00:24:59.312806Z",
     "start_time": "2024-09-21T00:24:59.307192Z"
    }
   },
   "cell_type": "code",
   "source": "X = np.array(df.query('Brand == \"Innjoo\"')[['RAM', 'Storage', 'Screen']])",
   "id": "b2afe9294e4f69b",
   "outputs": [],
   "execution_count": 17
  },
  {
   "metadata": {
    "ExecuteTime": {
     "end_time": "2024-09-21T00:24:59.333169Z",
     "start_time": "2024-09-21T00:24:59.326629Z"
    }
   },
   "cell_type": "code",
   "source": "X",
   "id": "f5a991fa9d0bfcc5",
   "outputs": [
    {
     "data": {
      "text/plain": [
       "array([[  8. , 256. ,  15.6],\n",
       "       [  8. , 512. ,  15.6],\n",
       "       [  4. ,  64. ,  14.1],\n",
       "       [  6. ,  64. ,  14.1],\n",
       "       [  6. , 128. ,  14.1],\n",
       "       [  6. , 128. ,  14.1]])"
      ]
     },
     "execution_count": 18,
     "metadata": {},
     "output_type": "execute_result"
    }
   ],
   "execution_count": 18
  },
  {
   "metadata": {
    "ExecuteTime": {
     "end_time": "2024-09-21T00:24:59.392029Z",
     "start_time": "2024-09-21T00:24:59.346563Z"
    }
   },
   "cell_type": "code",
   "source": "XTX = X.T @ X",
   "id": "1b62091b4dc3b04d",
   "outputs": [],
   "execution_count": 19
  },
  {
   "metadata": {
    "ExecuteTime": {
     "end_time": "2024-09-21T00:24:59.433587Z",
     "start_time": "2024-09-21T00:24:59.419962Z"
    }
   },
   "cell_type": "code",
   "source": "features = np.linalg.inv(XTX)",
   "id": "fe83f66485310f95",
   "outputs": [],
   "execution_count": 20
  },
  {
   "metadata": {
    "ExecuteTime": {
     "end_time": "2024-09-21T00:24:59.471266Z",
     "start_time": "2024-09-21T00:24:59.467834Z"
    }
   },
   "cell_type": "code",
   "source": "y = [1100, 1300, 800, 900, 1000, 1100]",
   "id": "8f9328250dab9961",
   "outputs": [],
   "execution_count": 21
  },
  {
   "metadata": {
    "ExecuteTime": {
     "end_time": "2024-09-21T00:24:59.505761Z",
     "start_time": "2024-09-21T00:24:59.500086Z"
    }
   },
   "cell_type": "code",
   "source": "w = features @ X.T @ y",
   "id": "1e1ff16b66db7789",
   "outputs": [],
   "execution_count": 22
  },
  {
   "metadata": {
    "ExecuteTime": {
     "end_time": "2024-09-21T00:24:59.522408Z",
     "start_time": "2024-09-21T00:24:59.517673Z"
    }
   },
   "cell_type": "code",
   "source": "w",
   "id": "8031650f8e88de3d",
   "outputs": [
    {
     "data": {
      "text/plain": [
       "array([45.58076606,  0.42783519, 45.29127938])"
      ]
     },
     "execution_count": 23,
     "metadata": {},
     "output_type": "execute_result"
    }
   ],
   "execution_count": 23
  },
  {
   "metadata": {
    "ExecuteTime": {
     "end_time": "2024-09-21T00:24:59.553272Z",
     "start_time": "2024-09-21T00:24:59.545105Z"
    }
   },
   "cell_type": "code",
   "source": "w.sum()",
   "id": "6d1a4a762204eb88",
   "outputs": [
    {
     "data": {
      "text/plain": [
       "91.29988062995815"
      ]
     },
     "execution_count": 24,
     "metadata": {},
     "output_type": "execute_result"
    }
   ],
   "execution_count": 24
  },
  {
   "metadata": {
    "ExecuteTime": {
     "end_time": "2024-09-21T00:24:59.622233Z",
     "start_time": "2024-09-21T00:24:59.619597Z"
    }
   },
   "cell_type": "code",
   "source": "",
   "id": "5c38aec6c23f927e",
   "outputs": [],
   "execution_count": null
  }
 ],
 "metadata": {
  "kernelspec": {
   "display_name": "Python 3",
   "language": "python",
   "name": "python3"
  },
  "language_info": {
   "codemirror_mode": {
    "name": "ipython",
    "version": 2
   },
   "file_extension": ".py",
   "mimetype": "text/x-python",
   "name": "python",
   "nbconvert_exporter": "python",
   "pygments_lexer": "ipython2",
   "version": "2.7.6"
  }
 },
 "nbformat": 4,
 "nbformat_minor": 5
}
