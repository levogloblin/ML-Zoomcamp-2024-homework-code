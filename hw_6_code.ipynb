{
 "cells": [
  {
   "cell_type": "code",
   "id": "initial_id",
   "metadata": {
    "collapsed": true,
    "ExecuteTime": {
     "end_time": "2024-11-01T20:44:30.340380Z",
     "start_time": "2024-11-01T20:44:28.411227Z"
    }
   },
   "source": [
    "import pandas as pd\n",
    "import numpy as np\n",
    "from sklearn.model_selection import train_test_split\n",
    "from sklearn.feature_extraction import DictVectorizer\n",
    "from sklearn.tree import DecisionTreeClassifier\n",
    "from sklearn.tree import export_text\n",
    "from sklearn.metrics import root_mean_squared_error\n",
    "from sklearn.ensemble import RandomForestRegressor\n",
    "import xgboost as xgb"
   ],
   "outputs": [],
   "execution_count": 1
  },
  {
   "metadata": {
    "ExecuteTime": {
     "end_time": "2024-11-01T20:44:30.361062Z",
     "start_time": "2024-11-01T20:44:30.344393Z"
    }
   },
   "cell_type": "code",
   "source": "data = pd.read_csv('jamb_exam_results.csv')",
   "id": "ab3743774fc8bb8",
   "outputs": [],
   "execution_count": 2
  },
  {
   "metadata": {
    "ExecuteTime": {
     "end_time": "2024-11-01T20:44:30.452003Z",
     "start_time": "2024-11-01T20:44:30.438494Z"
    }
   },
   "cell_type": "code",
   "source": "data.head()",
   "id": "e3c0619ee382926",
   "outputs": [
    {
     "data": {
      "text/plain": [
       "   JAMB_Score  Study_Hours_Per_Week  Attendance_Rate  Teacher_Quality  \\\n",
       "0         192                    22               78                4   \n",
       "1         207                    14               88                4   \n",
       "2         182                    29               87                2   \n",
       "3         210                    29               99                2   \n",
       "4         199                    12               98                3   \n",
       "\n",
       "   Distance_To_School School_Type School_Location Extra_Tutorials  \\\n",
       "0                12.4      Public           Urban             Yes   \n",
       "1                 2.7      Public           Rural              No   \n",
       "2                 9.6      Public           Rural             Yes   \n",
       "3                 2.6      Public           Urban              No   \n",
       "4                 8.8      Public           Urban              No   \n",
       "\n",
       "  Access_To_Learning_Materials Parent_Involvement IT_Knowledge  Student_ID  \\\n",
       "0                          Yes               High       Medium           1   \n",
       "1                          Yes               High         High           2   \n",
       "2                          Yes               High       Medium           3   \n",
       "3                          Yes             Medium         High           4   \n",
       "4                          Yes             Medium       Medium           5   \n",
       "\n",
       "   Age  Gender Socioeconomic_Status Parent_Education_Level  \\\n",
       "0   17    Male                  Low               Tertiary   \n",
       "1   15    Male                 High                    NaN   \n",
       "2   20  Female                 High               Tertiary   \n",
       "3   22  Female               Medium               Tertiary   \n",
       "4   22  Female               Medium               Tertiary   \n",
       "\n",
       "   Assignments_Completed  \n",
       "0                      2  \n",
       "1                      1  \n",
       "2                      2  \n",
       "3                      1  \n",
       "4                      1  "
      ],
      "text/html": [
       "<div>\n",
       "<style scoped>\n",
       "    .dataframe tbody tr th:only-of-type {\n",
       "        vertical-align: middle;\n",
       "    }\n",
       "\n",
       "    .dataframe tbody tr th {\n",
       "        vertical-align: top;\n",
       "    }\n",
       "\n",
       "    .dataframe thead th {\n",
       "        text-align: right;\n",
       "    }\n",
       "</style>\n",
       "<table border=\"1\" class=\"dataframe\">\n",
       "  <thead>\n",
       "    <tr style=\"text-align: right;\">\n",
       "      <th></th>\n",
       "      <th>JAMB_Score</th>\n",
       "      <th>Study_Hours_Per_Week</th>\n",
       "      <th>Attendance_Rate</th>\n",
       "      <th>Teacher_Quality</th>\n",
       "      <th>Distance_To_School</th>\n",
       "      <th>School_Type</th>\n",
       "      <th>School_Location</th>\n",
       "      <th>Extra_Tutorials</th>\n",
       "      <th>Access_To_Learning_Materials</th>\n",
       "      <th>Parent_Involvement</th>\n",
       "      <th>IT_Knowledge</th>\n",
       "      <th>Student_ID</th>\n",
       "      <th>Age</th>\n",
       "      <th>Gender</th>\n",
       "      <th>Socioeconomic_Status</th>\n",
       "      <th>Parent_Education_Level</th>\n",
       "      <th>Assignments_Completed</th>\n",
       "    </tr>\n",
       "  </thead>\n",
       "  <tbody>\n",
       "    <tr>\n",
       "      <th>0</th>\n",
       "      <td>192</td>\n",
       "      <td>22</td>\n",
       "      <td>78</td>\n",
       "      <td>4</td>\n",
       "      <td>12.4</td>\n",
       "      <td>Public</td>\n",
       "      <td>Urban</td>\n",
       "      <td>Yes</td>\n",
       "      <td>Yes</td>\n",
       "      <td>High</td>\n",
       "      <td>Medium</td>\n",
       "      <td>1</td>\n",
       "      <td>17</td>\n",
       "      <td>Male</td>\n",
       "      <td>Low</td>\n",
       "      <td>Tertiary</td>\n",
       "      <td>2</td>\n",
       "    </tr>\n",
       "    <tr>\n",
       "      <th>1</th>\n",
       "      <td>207</td>\n",
       "      <td>14</td>\n",
       "      <td>88</td>\n",
       "      <td>4</td>\n",
       "      <td>2.7</td>\n",
       "      <td>Public</td>\n",
       "      <td>Rural</td>\n",
       "      <td>No</td>\n",
       "      <td>Yes</td>\n",
       "      <td>High</td>\n",
       "      <td>High</td>\n",
       "      <td>2</td>\n",
       "      <td>15</td>\n",
       "      <td>Male</td>\n",
       "      <td>High</td>\n",
       "      <td>NaN</td>\n",
       "      <td>1</td>\n",
       "    </tr>\n",
       "    <tr>\n",
       "      <th>2</th>\n",
       "      <td>182</td>\n",
       "      <td>29</td>\n",
       "      <td>87</td>\n",
       "      <td>2</td>\n",
       "      <td>9.6</td>\n",
       "      <td>Public</td>\n",
       "      <td>Rural</td>\n",
       "      <td>Yes</td>\n",
       "      <td>Yes</td>\n",
       "      <td>High</td>\n",
       "      <td>Medium</td>\n",
       "      <td>3</td>\n",
       "      <td>20</td>\n",
       "      <td>Female</td>\n",
       "      <td>High</td>\n",
       "      <td>Tertiary</td>\n",
       "      <td>2</td>\n",
       "    </tr>\n",
       "    <tr>\n",
       "      <th>3</th>\n",
       "      <td>210</td>\n",
       "      <td>29</td>\n",
       "      <td>99</td>\n",
       "      <td>2</td>\n",
       "      <td>2.6</td>\n",
       "      <td>Public</td>\n",
       "      <td>Urban</td>\n",
       "      <td>No</td>\n",
       "      <td>Yes</td>\n",
       "      <td>Medium</td>\n",
       "      <td>High</td>\n",
       "      <td>4</td>\n",
       "      <td>22</td>\n",
       "      <td>Female</td>\n",
       "      <td>Medium</td>\n",
       "      <td>Tertiary</td>\n",
       "      <td>1</td>\n",
       "    </tr>\n",
       "    <tr>\n",
       "      <th>4</th>\n",
       "      <td>199</td>\n",
       "      <td>12</td>\n",
       "      <td>98</td>\n",
       "      <td>3</td>\n",
       "      <td>8.8</td>\n",
       "      <td>Public</td>\n",
       "      <td>Urban</td>\n",
       "      <td>No</td>\n",
       "      <td>Yes</td>\n",
       "      <td>Medium</td>\n",
       "      <td>Medium</td>\n",
       "      <td>5</td>\n",
       "      <td>22</td>\n",
       "      <td>Female</td>\n",
       "      <td>Medium</td>\n",
       "      <td>Tertiary</td>\n",
       "      <td>1</td>\n",
       "    </tr>\n",
       "  </tbody>\n",
       "</table>\n",
       "</div>"
      ]
     },
     "execution_count": 3,
     "metadata": {},
     "output_type": "execute_result"
    }
   ],
   "execution_count": 3
  },
  {
   "metadata": {
    "ExecuteTime": {
     "end_time": "2024-11-01T20:44:30.493704Z",
     "start_time": "2024-11-01T20:44:30.490327Z"
    }
   },
   "cell_type": "code",
   "source": "data.columns = data.columns.str.lower().str.replace(' ', '_')",
   "id": "a056d814055fcbe0",
   "outputs": [],
   "execution_count": 4
  },
  {
   "metadata": {
    "ExecuteTime": {
     "end_time": "2024-11-01T20:44:30.540213Z",
     "start_time": "2024-11-01T20:44:30.535579Z"
    }
   },
   "cell_type": "code",
   "source": "del data['student_id']",
   "id": "88ddb8355d455a5d",
   "outputs": [],
   "execution_count": 5
  },
  {
   "metadata": {
    "ExecuteTime": {
     "end_time": "2024-11-01T20:44:30.565132Z",
     "start_time": "2024-11-01T20:44:30.560218Z"
    }
   },
   "cell_type": "code",
   "source": "data.fillna(0, inplace=True)",
   "id": "159f1fe2696add10",
   "outputs": [],
   "execution_count": 6
  },
  {
   "metadata": {
    "ExecuteTime": {
     "end_time": "2024-11-01T20:44:30.691369Z",
     "start_time": "2024-11-01T20:44:30.682548Z"
    }
   },
   "cell_type": "code",
   "source": "data.info()",
   "id": "18c9f6eb802fad9e",
   "outputs": [
    {
     "name": "stdout",
     "output_type": "stream",
     "text": [
      "<class 'pandas.core.frame.DataFrame'>\n",
      "RangeIndex: 5000 entries, 0 to 4999\n",
      "Data columns (total 16 columns):\n",
      " #   Column                        Non-Null Count  Dtype  \n",
      "---  ------                        --------------  -----  \n",
      " 0   jamb_score                    5000 non-null   int64  \n",
      " 1   study_hours_per_week          5000 non-null   int64  \n",
      " 2   attendance_rate               5000 non-null   int64  \n",
      " 3   teacher_quality               5000 non-null   int64  \n",
      " 4   distance_to_school            5000 non-null   float64\n",
      " 5   school_type                   5000 non-null   object \n",
      " 6   school_location               5000 non-null   object \n",
      " 7   extra_tutorials               5000 non-null   object \n",
      " 8   access_to_learning_materials  5000 non-null   object \n",
      " 9   parent_involvement            5000 non-null   object \n",
      " 10  it_knowledge                  5000 non-null   object \n",
      " 11  age                           5000 non-null   int64  \n",
      " 12  gender                        5000 non-null   object \n",
      " 13  socioeconomic_status          5000 non-null   object \n",
      " 14  parent_education_level        5000 non-null   object \n",
      " 15  assignments_completed         5000 non-null   int64  \n",
      "dtypes: float64(1), int64(6), object(9)\n",
      "memory usage: 625.1+ KB\n"
     ]
    }
   ],
   "execution_count": 7
  },
  {
   "metadata": {
    "ExecuteTime": {
     "end_time": "2024-11-01T20:44:30.743642Z",
     "start_time": "2024-11-01T20:44:30.737245Z"
    }
   },
   "cell_type": "code",
   "source": "data['jamb_score'].describe()",
   "id": "877436c3a98e2f86",
   "outputs": [
    {
     "data": {
      "text/plain": [
       "count    5000.000000\n",
       "mean      174.074600\n",
       "std        47.616477\n",
       "min       100.000000\n",
       "25%       135.000000\n",
       "50%       170.000000\n",
       "75%       209.000000\n",
       "max       367.000000\n",
       "Name: jamb_score, dtype: float64"
      ]
     },
     "execution_count": 8,
     "metadata": {},
     "output_type": "execute_result"
    }
   ],
   "execution_count": 8
  },
  {
   "metadata": {
    "ExecuteTime": {
     "end_time": "2024-11-01T20:44:30.788378Z",
     "start_time": "2024-11-01T20:44:30.778100Z"
    }
   },
   "cell_type": "code",
   "source": [
    "df_full_train, df_test = train_test_split(data, test_size=0.2, random_state=1)\n",
    "df_train, df_val = train_test_split(df_full_train, test_size=0.25, random_state=1)\n",
    "\n",
    "df_train = df_train.reset_index(drop=True)\n",
    "df_val = df_val.reset_index(drop=True)\n",
    "df_test = df_test.reset_index(drop=True)\n",
    "\n",
    "y_train = df_train['jamb_score']\n",
    "y_val = df_val['jamb_score']\n",
    "y_test = df_test['jamb_score']\n",
    "\n",
    "del df_train['jamb_score']\n",
    "del df_val['jamb_score']\n",
    "del df_test['jamb_score']"
   ],
   "id": "f7a469b1bbd20eed",
   "outputs": [],
   "execution_count": 9
  },
  {
   "metadata": {
    "ExecuteTime": {
     "end_time": "2024-11-01T20:44:30.822421Z",
     "start_time": "2024-11-01T20:44:30.816513Z"
    }
   },
   "cell_type": "code",
   "source": "len(df_train), len(df_val), len(df_test)",
   "id": "556deeb8895a77c6",
   "outputs": [
    {
     "data": {
      "text/plain": [
       "(3000, 1000, 1000)"
      ]
     },
     "execution_count": 10,
     "metadata": {},
     "output_type": "execute_result"
    }
   ],
   "execution_count": 10
  },
  {
   "metadata": {
    "ExecuteTime": {
     "end_time": "2024-11-01T20:44:30.921761Z",
     "start_time": "2024-11-01T20:44:30.854059Z"
    }
   },
   "cell_type": "code",
   "source": [
    "dv = DictVectorizer(sparse=False)\n",
    "X_train = dv.fit_transform(df_train.to_dict(orient='records'))\n",
    "X_val = dv.transform(df_val.to_dict(orient='records'))\n",
    "X_test = dv.transform(df_test.to_dict(orient='records'))"
   ],
   "id": "7738bb302f20bec4",
   "outputs": [],
   "execution_count": 11
  },
  {
   "metadata": {},
   "cell_type": "markdown",
   "source": "# Q 1",
   "id": "e8472b6aeda5b9d1"
  },
  {
   "metadata": {
    "ExecuteTime": {
     "end_time": "2024-11-01T20:44:31.005826Z",
     "start_time": "2024-11-01T20:44:31.002734Z"
    }
   },
   "cell_type": "code",
   "source": [
    "def answer_to_question_1(max_depth):\n",
    "    dt = DecisionTreeClassifier(max_depth=max_depth)\n",
    "    dt.fit(X_train, y_train)\n",
    "    print(export_text(dt, feature_names=list(dv.get_feature_names_out())))"
   ],
   "id": "c21cb8517f4b6351",
   "outputs": [],
   "execution_count": 12
  },
  {
   "metadata": {
    "ExecuteTime": {
     "end_time": "2024-11-01T20:44:31.031361Z",
     "start_time": "2024-11-01T20:44:31.028119Z"
    }
   },
   "cell_type": "code",
   "source": "max_depth = 1",
   "id": "915fbde0bcafcc60",
   "outputs": [],
   "execution_count": 13
  },
  {
   "metadata": {
    "ExecuteTime": {
     "end_time": "2024-11-01T20:44:31.060708Z",
     "start_time": "2024-11-01T20:44:31.054827Z"
    }
   },
   "cell_type": "code",
   "source": "answer_to_question_1(max_depth)",
   "id": "e350f686f319621d",
   "outputs": [
    {
     "name": "stdout",
     "output_type": "stream",
     "text": [
      "|--- study_hours_per_week <= 18.50\n",
      "|   |--- class: 118\n",
      "|--- study_hours_per_week >  18.50\n",
      "|   |--- class: 190\n",
      "\n"
     ]
    }
   ],
   "execution_count": 14
  },
  {
   "metadata": {},
   "cell_type": "markdown",
   "source": "# Q 2",
   "id": "63c46edb8b35db4a"
  },
  {
   "metadata": {
    "ExecuteTime": {
     "end_time": "2024-11-01T20:44:31.086924Z",
     "start_time": "2024-11-01T20:44:31.083267Z"
    }
   },
   "cell_type": "code",
   "source": [
    "def answer_to_question_2(n_estimators, random_state, n_jobs):\n",
    "    random_forest = RandomForestRegressor(n_estimators=n_estimators, random_state=random_state, n_jobs=n_jobs)\n",
    "    random_forest.fit(X_train, y_train)\n",
    "    y_val_predict = random_forest.predict(X_val)\n",
    "    return round(root_mean_squared_error(y_val, y_val_predict), 3)"
   ],
   "id": "e3763462d27d9603",
   "outputs": [],
   "execution_count": 15
  },
  {
   "metadata": {
    "ExecuteTime": {
     "end_time": "2024-11-01T20:44:31.111352Z",
     "start_time": "2024-11-01T20:44:31.107805Z"
    }
   },
   "cell_type": "code",
   "source": [
    "n_estimators = 10\n",
    "random_state = 1\n",
    "n_jobs = -1"
   ],
   "id": "59bb0bedae850936",
   "outputs": [],
   "execution_count": 16
  },
  {
   "metadata": {
    "ExecuteTime": {
     "end_time": "2024-11-01T20:44:31.185382Z",
     "start_time": "2024-11-01T20:44:31.133278Z"
    }
   },
   "cell_type": "code",
   "source": "answer_to_question_2(n_estimators, random_state, n_jobs)",
   "id": "e21ca348b44b79a9",
   "outputs": [
    {
     "data": {
      "text/plain": [
       "42.137"
      ]
     },
     "execution_count": 17,
     "metadata": {},
     "output_type": "execute_result"
    }
   ],
   "execution_count": 17
  },
  {
   "metadata": {},
   "cell_type": "markdown",
   "source": "# Q 3",
   "id": "d82a5341df8e184f"
  },
  {
   "metadata": {
    "ExecuteTime": {
     "end_time": "2024-11-01T20:44:31.212036Z",
     "start_time": "2024-11-01T20:44:31.208408Z"
    }
   },
   "cell_type": "code",
   "source": [
    "def answer_to_question_3(range_of_estimators, random_state):\n",
    "    for n in range_of_estimators:\n",
    "        model = RandomForestRegressor(n_estimators=n, random_state=random_state)\n",
    "        model.fit(X_train, y_train)\n",
    "        score = round(root_mean_squared_error(model.predict(X_val), y_val), 3)\n",
    "        print(f'n_estimators={n}, score={score}')"
   ],
   "id": "4ff11e8d661e34c1",
   "outputs": [],
   "execution_count": 18
  },
  {
   "metadata": {
    "ExecuteTime": {
     "end_time": "2024-11-01T20:44:31.238240Z",
     "start_time": "2024-11-01T20:44:31.234380Z"
    }
   },
   "cell_type": "code",
   "source": [
    "random_state = 1\n",
    "range_of_estimators = range(10, 201, 10)"
   ],
   "id": "25be2551fd7c97be",
   "outputs": [],
   "execution_count": 19
  },
  {
   "metadata": {
    "ExecuteTime": {
     "end_time": "2024-11-01T20:45:24.042238Z",
     "start_time": "2024-11-01T20:44:31.259444Z"
    }
   },
   "cell_type": "code",
   "source": "answer_to_question_3(range_of_estimators, random_state)",
   "id": "2fa5cb1f4d8ef625",
   "outputs": [
    {
     "name": "stdout",
     "output_type": "stream",
     "text": [
      "n_estimators=10, score=42.137\n",
      "n_estimators=20, score=41.461\n",
      "n_estimators=30, score=41.106\n",
      "n_estimators=40, score=40.917\n",
      "n_estimators=50, score=40.852\n",
      "n_estimators=60, score=40.784\n",
      "n_estimators=70, score=40.677\n",
      "n_estimators=80, score=40.539\n",
      "n_estimators=90, score=40.504\n",
      "n_estimators=100, score=40.517\n",
      "n_estimators=110, score=40.593\n",
      "n_estimators=120, score=40.625\n",
      "n_estimators=130, score=40.651\n",
      "n_estimators=140, score=40.595\n",
      "n_estimators=150, score=40.597\n",
      "n_estimators=160, score=40.604\n",
      "n_estimators=170, score=40.628\n",
      "n_estimators=180, score=40.641\n",
      "n_estimators=190, score=40.631\n",
      "n_estimators=200, score=40.601\n"
     ]
    }
   ],
   "execution_count": 20
  },
  {
   "metadata": {},
   "cell_type": "markdown",
   "source": "# Q 4",
   "id": "46110d5085f80128"
  },
  {
   "metadata": {
    "ExecuteTime": {
     "end_time": "2024-11-01T20:45:24.071561Z",
     "start_time": "2024-11-01T20:45:24.066906Z"
    }
   },
   "cell_type": "code",
   "source": [
    "def answer_to_question_4(range_of_estimators, range_of_depth, random_state):\n",
    "    answer = []\n",
    "    for d in range_of_depth:\n",
    "        scores = []\n",
    "        for n in range_of_estimators:\n",
    "            model = RandomForestRegressor(n_estimators=n, max_depth=d, random_state=random_state)\n",
    "            model.fit(X_train, y_train)\n",
    "            score = root_mean_squared_error(model.predict(X_val), y_val)\n",
    "            scores.append(score)\n",
    "        answer.append((d, np.mean(scores)))\n",
    "    answer.sort(key=lambda x: x[1], reverse=False)\n",
    "    return answer"
   ],
   "id": "454d015d3aba36b5",
   "outputs": [],
   "execution_count": 21
  },
  {
   "metadata": {
    "ExecuteTime": {
     "end_time": "2024-11-01T20:45:24.098035Z",
     "start_time": "2024-11-01T20:45:24.094856Z"
    }
   },
   "cell_type": "code",
   "source": [
    "range_of_estimators = range(10, 201, 10)\n",
    "range_of_depth = [10, 15, 20, 25]\n",
    "random_state = 1"
   ],
   "id": "34764217a4c68a6",
   "outputs": [],
   "execution_count": 22
  },
  {
   "metadata": {
    "ExecuteTime": {
     "end_time": "2024-11-01T20:48:10.893335Z",
     "start_time": "2024-11-01T20:45:24.124995Z"
    }
   },
   "cell_type": "code",
   "source": "answer_to_question_4(range_of_estimators, range_of_depth, random_state)",
   "id": "cf91a1326be69ab6",
   "outputs": [
    {
     "data": {
      "text/plain": [
       "[(10, 40.39249798892396),\n",
       " (15, 40.73528172486332),\n",
       " (20, 40.739734321829275),\n",
       " (25, 40.78786565962805)]"
      ]
     },
     "execution_count": 23,
     "metadata": {},
     "output_type": "execute_result"
    }
   ],
   "execution_count": 23
  },
  {
   "metadata": {},
   "cell_type": "markdown",
   "source": "# Q 5",
   "id": "1955ac3630fc8ba6"
  },
  {
   "metadata": {
    "ExecuteTime": {
     "end_time": "2024-11-01T20:48:10.990359Z",
     "start_time": "2024-11-01T20:48:10.984503Z"
    }
   },
   "cell_type": "code",
   "source": [
    "def answer_to_question_5(params, working_features):\n",
    "    features = list(df_train.columns)\n",
    "    feature_names = []\n",
    "    for feature in features:\n",
    "        if df_train[feature].dtype == 'object':\n",
    "            feature_names.extend([feature] * df_train[feature].nunique())\n",
    "        else:\n",
    "            feature_names.append(feature)\n",
    "    assert len(feature_names) == X_train.shape[1]\n",
    "\n",
    "    model = RandomForestRegressor(**params)\n",
    "    model.fit(X_train, y_train)\n",
    "    importances = dict(zip(feature_names, model.feature_importances_))\n",
    "    \n",
    "    working_importances = []\n",
    "    for feature in working_features:\n",
    "        working_importances.append((feature, importances[feature]))\n",
    "    working_importances.sort(key=lambda x: x[1], reverse=True)\n",
    "    return working_importances\n",
    "    "
   ],
   "id": "6a261bb523567ebe",
   "outputs": [],
   "execution_count": 24
  },
  {
   "metadata": {
    "ExecuteTime": {
     "end_time": "2024-11-01T20:48:11.028200Z",
     "start_time": "2024-11-01T20:48:11.023420Z"
    }
   },
   "cell_type": "code",
   "source": [
    "params = {\"n_estimators\": 10, \"max_depth\": 20,\"random_state\": 1, \"n_jobs\": -1}\n",
    "working_features = ['study_hours_per_week', 'attendance_rate', 'distance_to_school','teacher_quality']"
   ],
   "id": "95d695b928ff1b08",
   "outputs": [],
   "execution_count": 25
  },
  {
   "metadata": {
    "ExecuteTime": {
     "end_time": "2024-11-01T20:48:11.114736Z",
     "start_time": "2024-11-01T20:48:11.058015Z"
    }
   },
   "cell_type": "code",
   "source": "answer_to_question_5(params, working_features)",
   "id": "b094b0fbbf494fda",
   "outputs": [
    {
     "data": {
      "text/plain": [
       "[('teacher_quality', 0.06931145469695396),\n",
       " ('distance_to_school', 0.031516789454600694),\n",
       " ('study_hours_per_week', 0.012325395818561702),\n",
       " ('attendance_rate', 0.010261891957053595)]"
      ]
     },
     "execution_count": 26,
     "metadata": {},
     "output_type": "execute_result"
    }
   ],
   "execution_count": 26
  },
  {
   "metadata": {},
   "cell_type": "markdown",
   "source": "# Q 6",
   "id": "f16155ffb7b6b11b"
  },
  {
   "metadata": {
    "ExecuteTime": {
     "end_time": "2024-11-01T21:33:47.154243Z",
     "start_time": "2024-11-01T21:33:47.149184Z"
    }
   },
   "cell_type": "code",
   "source": [
    "def answer_to_question_6(dv, y_val, xgb_params, num_boost_round, eta_range):\n",
    "    answer = []\n",
    "    \n",
    "    features = list(dv.get_feature_names_out())\n",
    "    dtrain = xgb.DMatrix(X_train, label=y_train, feature_names=features)\n",
    "    dval = xgb.DMatrix(X_val, label=y_val, feature_names=features)\n",
    "\n",
    "    watchlist = [(dtrain, 'train'), (dval, 'val')]\n",
    "    for eta in eta_range:\n",
    "        xgb_params['eta'] = eta\n",
    "\n",
    "        model = xgb.train(xgb_params, dtrain, evals=watchlist, num_boost_round=num_boost_round)\n",
    "        answer.append((eta, root_mean_squared_error(model.predict(dval), y_val)))\n",
    "    \n",
    "    answer.sort(key=lambda x: x[1], reverse=False)\n",
    "    return answer"
   ],
   "id": "68668c76e138afc1",
   "outputs": [],
   "execution_count": 77
  },
  {
   "metadata": {
    "ExecuteTime": {
     "end_time": "2024-11-01T21:32:06.218530Z",
     "start_time": "2024-11-01T21:32:06.214193Z"
    }
   },
   "cell_type": "code",
   "source": [
    "eta_range = [0.1, 0.3]\n",
    "num_boost_round = 100\n",
    "xgb_params = {\n",
    "    'eta': 0.3,\n",
    "    'max_depth': 6,\n",
    "    'min_child_weight': 1,\n",
    "\n",
    "    'objective': 'reg:squarederror',\n",
    "    'nthread': 8,\n",
    "\n",
    "    'seed': 1,\n",
    "    'verbosity': 1,\n",
    "}"
   ],
   "id": "ba71cd6f96f82893",
   "outputs": [],
   "execution_count": 71
  },
  {
   "metadata": {
    "ExecuteTime": {
     "end_time": "2024-11-01T21:33:51.037603Z",
     "start_time": "2024-11-01T21:33:50.598713Z"
    }
   },
   "cell_type": "code",
   "source": "answer = answer_to_question_6(dv, y_val, xgb_params, num_boost_round, eta_range)",
   "id": "396f1a9e53d5bc01",
   "outputs": [
    {
     "name": "stdout",
     "output_type": "stream",
     "text": [
      "[0]\ttrain-rmse:45.50072\tval-rmse:46.99373\n",
      "[1]\ttrain-rmse:44.12583\tval-rmse:45.89771\n",
      "[2]\ttrain-rmse:42.92815\tval-rmse:45.01746\n",
      "[3]\ttrain-rmse:41.90445\tval-rmse:44.27569\n",
      "[4]\ttrain-rmse:40.94238\tval-rmse:43.62411\n",
      "[5]\ttrain-rmse:40.15460\tval-rmse:43.05644\n",
      "[6]\ttrain-rmse:39.43451\tval-rmse:42.64605\n",
      "[7]\ttrain-rmse:38.77902\tval-rmse:42.28889\n",
      "[8]\ttrain-rmse:38.17103\tval-rmse:42.00035\n",
      "[9]\ttrain-rmse:37.60436\tval-rmse:41.73633\n",
      "[10]\ttrain-rmse:37.11353\tval-rmse:41.55631\n",
      "[11]\ttrain-rmse:36.65501\tval-rmse:41.33670\n",
      "[12]\ttrain-rmse:36.26337\tval-rmse:41.18307\n",
      "[13]\ttrain-rmse:35.84634\tval-rmse:41.03057\n",
      "[14]\ttrain-rmse:35.45796\tval-rmse:40.89024\n",
      "[15]\ttrain-rmse:35.07766\tval-rmse:40.70892\n",
      "[16]\ttrain-rmse:34.73181\tval-rmse:40.60601\n",
      "[17]\ttrain-rmse:34.40922\tval-rmse:40.47982\n",
      "[18]\ttrain-rmse:34.13466\tval-rmse:40.43780\n",
      "[19]\ttrain-rmse:33.88018\tval-rmse:40.38390\n",
      "[20]\ttrain-rmse:33.57997\tval-rmse:40.37859\n",
      "[21]\ttrain-rmse:33.33993\tval-rmse:40.33974\n",
      "[22]\ttrain-rmse:33.08144\tval-rmse:40.31700\n",
      "[23]\ttrain-rmse:32.90907\tval-rmse:40.27079\n",
      "[24]\ttrain-rmse:32.67941\tval-rmse:40.24539\n",
      "[25]\ttrain-rmse:32.50134\tval-rmse:40.21661\n",
      "[26]\ttrain-rmse:32.34352\tval-rmse:40.18931\n",
      "[27]\ttrain-rmse:32.10382\tval-rmse:40.16582\n",
      "[28]\ttrain-rmse:31.87260\tval-rmse:40.17918\n",
      "[29]\ttrain-rmse:31.63118\tval-rmse:40.19048\n",
      "[30]\ttrain-rmse:31.47315\tval-rmse:40.20963\n",
      "[31]\ttrain-rmse:31.33204\tval-rmse:40.19347\n",
      "[32]\ttrain-rmse:31.14061\tval-rmse:40.18380\n",
      "[33]\ttrain-rmse:31.00229\tval-rmse:40.20241\n",
      "[34]\ttrain-rmse:30.87401\tval-rmse:40.19533\n",
      "[35]\ttrain-rmse:30.68870\tval-rmse:40.19360\n",
      "[36]\ttrain-rmse:30.51937\tval-rmse:40.16657\n",
      "[37]\ttrain-rmse:30.39206\tval-rmse:40.17015\n",
      "[38]\ttrain-rmse:30.15893\tval-rmse:40.11076\n",
      "[39]\ttrain-rmse:30.06269\tval-rmse:40.12398\n",
      "[40]\ttrain-rmse:29.89807\tval-rmse:40.15747\n",
      "[41]\ttrain-rmse:29.77216\tval-rmse:40.16214\n",
      "[42]\ttrain-rmse:29.68555\tval-rmse:40.18541\n",
      "[43]\ttrain-rmse:29.60613\tval-rmse:40.19638\n",
      "[44]\ttrain-rmse:29.44768\tval-rmse:40.21938\n",
      "[45]\ttrain-rmse:29.33094\tval-rmse:40.21096\n",
      "[46]\ttrain-rmse:29.17393\tval-rmse:40.25150\n",
      "[47]\ttrain-rmse:29.07139\tval-rmse:40.27005\n",
      "[48]\ttrain-rmse:28.90613\tval-rmse:40.27137\n",
      "[49]\ttrain-rmse:28.68387\tval-rmse:40.25459\n",
      "[50]\ttrain-rmse:28.58793\tval-rmse:40.28533\n",
      "[51]\ttrain-rmse:28.43762\tval-rmse:40.32253\n",
      "[52]\ttrain-rmse:28.30836\tval-rmse:40.33475\n",
      "[53]\ttrain-rmse:28.20341\tval-rmse:40.36778\n",
      "[54]\ttrain-rmse:28.04428\tval-rmse:40.42419\n",
      "[55]\ttrain-rmse:27.95277\tval-rmse:40.44296\n",
      "[56]\ttrain-rmse:27.79120\tval-rmse:40.46342\n",
      "[57]\ttrain-rmse:27.63979\tval-rmse:40.47682\n",
      "[58]\ttrain-rmse:27.51074\tval-rmse:40.50269\n",
      "[59]\ttrain-rmse:27.38582\tval-rmse:40.55488\n",
      "[60]\ttrain-rmse:27.26360\tval-rmse:40.55054\n",
      "[61]\ttrain-rmse:27.11823\tval-rmse:40.55428\n",
      "[62]\ttrain-rmse:26.93721\tval-rmse:40.59138\n",
      "[63]\ttrain-rmse:26.80458\tval-rmse:40.63833\n",
      "[64]\ttrain-rmse:26.72133\tval-rmse:40.67049\n",
      "[65]\ttrain-rmse:26.56706\tval-rmse:40.66625\n",
      "[66]\ttrain-rmse:26.50977\tval-rmse:40.68481\n",
      "[67]\ttrain-rmse:26.48079\tval-rmse:40.67549\n",
      "[68]\ttrain-rmse:26.35456\tval-rmse:40.66876\n",
      "[69]\ttrain-rmse:26.19720\tval-rmse:40.71233\n",
      "[70]\ttrain-rmse:26.05959\tval-rmse:40.73555\n",
      "[71]\ttrain-rmse:25.98355\tval-rmse:40.73001\n",
      "[72]\ttrain-rmse:25.85978\tval-rmse:40.76108\n",
      "[73]\ttrain-rmse:25.78199\tval-rmse:40.75415\n",
      "[74]\ttrain-rmse:25.61175\tval-rmse:40.76484\n",
      "[75]\ttrain-rmse:25.55747\tval-rmse:40.76267\n",
      "[76]\ttrain-rmse:25.45273\tval-rmse:40.80265\n",
      "[77]\ttrain-rmse:25.37953\tval-rmse:40.80691\n",
      "[78]\ttrain-rmse:25.34547\tval-rmse:40.81149\n",
      "[79]\ttrain-rmse:25.30869\tval-rmse:40.81515\n",
      "[80]\ttrain-rmse:25.13835\tval-rmse:40.82813\n",
      "[81]\ttrain-rmse:25.08265\tval-rmse:40.82773\n",
      "[82]\ttrain-rmse:24.98067\tval-rmse:40.87072\n",
      "[83]\ttrain-rmse:24.83828\tval-rmse:40.86600\n",
      "[84]\ttrain-rmse:24.76938\tval-rmse:40.85858\n",
      "[85]\ttrain-rmse:24.64140\tval-rmse:40.87915\n",
      "[86]\ttrain-rmse:24.48190\tval-rmse:40.92002\n",
      "[87]\ttrain-rmse:24.33811\tval-rmse:40.91237\n",
      "[88]\ttrain-rmse:24.19041\tval-rmse:40.93271\n",
      "[89]\ttrain-rmse:24.04297\tval-rmse:40.92325\n",
      "[90]\ttrain-rmse:23.93958\tval-rmse:40.89645\n",
      "[91]\ttrain-rmse:23.80207\tval-rmse:40.94051\n",
      "[92]\ttrain-rmse:23.69255\tval-rmse:40.93450\n",
      "[93]\ttrain-rmse:23.59784\tval-rmse:40.94918\n",
      "[94]\ttrain-rmse:23.50978\tval-rmse:40.95805\n",
      "[95]\ttrain-rmse:23.39469\tval-rmse:40.95651\n",
      "[96]\ttrain-rmse:23.28229\tval-rmse:40.97949\n",
      "[97]\ttrain-rmse:23.24969\tval-rmse:40.99391\n",
      "[98]\ttrain-rmse:23.17460\tval-rmse:41.01797\n",
      "[99]\ttrain-rmse:23.14487\tval-rmse:41.04335\n",
      "[0]\ttrain-rmse:42.69552\tval-rmse:44.86028\n",
      "[1]\ttrain-rmse:39.85005\tval-rmse:43.06070\n",
      "[2]\ttrain-rmse:37.95285\tval-rmse:41.83772\n",
      "[3]\ttrain-rmse:36.52203\tval-rmse:41.26987\n",
      "[4]\ttrain-rmse:35.36066\tval-rmse:41.02965\n",
      "[5]\ttrain-rmse:34.43646\tval-rmse:40.87186\n",
      "[6]\ttrain-rmse:33.71528\tval-rmse:40.69132\n",
      "[7]\ttrain-rmse:33.07449\tval-rmse:40.65074\n",
      "[8]\ttrain-rmse:32.41772\tval-rmse:40.72710\n",
      "[9]\ttrain-rmse:31.91000\tval-rmse:40.82972\n",
      "[10]\ttrain-rmse:31.55119\tval-rmse:40.83684\n",
      "[11]\ttrain-rmse:30.99534\tval-rmse:40.98243\n",
      "[12]\ttrain-rmse:30.33163\tval-rmse:41.05515\n",
      "[13]\ttrain-rmse:30.04347\tval-rmse:41.18635\n",
      "[14]\ttrain-rmse:29.44279\tval-rmse:41.32160\n",
      "[15]\ttrain-rmse:29.08791\tval-rmse:41.37832\n",
      "[16]\ttrain-rmse:28.84106\tval-rmse:41.45737\n",
      "[17]\ttrain-rmse:28.28883\tval-rmse:41.51113\n",
      "[18]\ttrain-rmse:27.90071\tval-rmse:41.55139\n",
      "[19]\ttrain-rmse:27.60694\tval-rmse:41.66496\n",
      "[20]\ttrain-rmse:27.24424\tval-rmse:41.80313\n",
      "[21]\ttrain-rmse:26.79013\tval-rmse:41.88767\n",
      "[22]\ttrain-rmse:26.64232\tval-rmse:41.90488\n",
      "[23]\ttrain-rmse:26.31972\tval-rmse:41.92316\n",
      "[24]\ttrain-rmse:25.88532\tval-rmse:42.08362\n",
      "[25]\ttrain-rmse:25.52682\tval-rmse:42.16423\n",
      "[26]\ttrain-rmse:25.27021\tval-rmse:42.18007\n",
      "[27]\ttrain-rmse:24.83770\tval-rmse:42.25393\n",
      "[28]\ttrain-rmse:24.50666\tval-rmse:42.17218\n",
      "[29]\ttrain-rmse:24.28500\tval-rmse:42.22800\n",
      "[30]\ttrain-rmse:24.12906\tval-rmse:42.28557\n",
      "[31]\ttrain-rmse:23.79256\tval-rmse:42.27537\n",
      "[32]\ttrain-rmse:23.61943\tval-rmse:42.34086\n",
      "[33]\ttrain-rmse:23.21046\tval-rmse:42.35924\n",
      "[34]\ttrain-rmse:22.76960\tval-rmse:42.41263\n",
      "[35]\ttrain-rmse:22.40407\tval-rmse:42.54946\n",
      "[36]\ttrain-rmse:22.21200\tval-rmse:42.53387\n",
      "[37]\ttrain-rmse:22.06109\tval-rmse:42.59772\n",
      "[38]\ttrain-rmse:21.88417\tval-rmse:42.64574\n",
      "[39]\ttrain-rmse:21.72696\tval-rmse:42.66439\n",
      "[40]\ttrain-rmse:21.45994\tval-rmse:42.77917\n",
      "[41]\ttrain-rmse:21.24770\tval-rmse:42.79287\n",
      "[42]\ttrain-rmse:21.09028\tval-rmse:42.79428\n",
      "[43]\ttrain-rmse:20.71456\tval-rmse:42.93201\n",
      "[44]\ttrain-rmse:20.65221\tval-rmse:42.92877\n",
      "[45]\ttrain-rmse:20.39910\tval-rmse:42.92252\n",
      "[46]\ttrain-rmse:20.22686\tval-rmse:42.98755\n",
      "[47]\ttrain-rmse:20.05491\tval-rmse:42.99944\n",
      "[48]\ttrain-rmse:19.85342\tval-rmse:43.04477\n",
      "[49]\ttrain-rmse:19.52786\tval-rmse:43.05213\n",
      "[50]\ttrain-rmse:19.30407\tval-rmse:43.11630\n",
      "[51]\ttrain-rmse:19.19020\tval-rmse:43.14962\n",
      "[52]\ttrain-rmse:19.06414\tval-rmse:43.18269\n",
      "[53]\ttrain-rmse:18.95703\tval-rmse:43.23604\n",
      "[54]\ttrain-rmse:18.64998\tval-rmse:43.32643\n",
      "[55]\ttrain-rmse:18.42737\tval-rmse:43.38441\n",
      "[56]\ttrain-rmse:18.22228\tval-rmse:43.45045\n",
      "[57]\ttrain-rmse:17.86009\tval-rmse:43.45631\n",
      "[58]\ttrain-rmse:17.77161\tval-rmse:43.41722\n",
      "[59]\ttrain-rmse:17.54300\tval-rmse:43.43040\n",
      "[60]\ttrain-rmse:17.42414\tval-rmse:43.40830\n",
      "[61]\ttrain-rmse:17.29793\tval-rmse:43.39196\n",
      "[62]\ttrain-rmse:16.98232\tval-rmse:43.44147\n",
      "[63]\ttrain-rmse:16.70766\tval-rmse:43.49769\n",
      "[64]\ttrain-rmse:16.65029\tval-rmse:43.48814\n",
      "[65]\ttrain-rmse:16.59974\tval-rmse:43.52522\n",
      "[66]\ttrain-rmse:16.49244\tval-rmse:43.56568\n",
      "[67]\ttrain-rmse:16.20230\tval-rmse:43.64686\n",
      "[68]\ttrain-rmse:16.03162\tval-rmse:43.68218\n",
      "[69]\ttrain-rmse:15.80482\tval-rmse:43.74895\n",
      "[70]\ttrain-rmse:15.74173\tval-rmse:43.77894\n",
      "[71]\ttrain-rmse:15.46582\tval-rmse:43.86327\n",
      "[72]\ttrain-rmse:15.32512\tval-rmse:43.88453\n",
      "[73]\ttrain-rmse:15.25418\tval-rmse:43.87270\n",
      "[74]\ttrain-rmse:15.13885\tval-rmse:43.92972\n",
      "[75]\ttrain-rmse:14.87321\tval-rmse:43.91229\n",
      "[76]\ttrain-rmse:14.74268\tval-rmse:43.96224\n",
      "[77]\ttrain-rmse:14.55016\tval-rmse:44.02037\n",
      "[78]\ttrain-rmse:14.45302\tval-rmse:44.03039\n",
      "[79]\ttrain-rmse:14.31586\tval-rmse:44.08974\n",
      "[80]\ttrain-rmse:14.28350\tval-rmse:44.08528\n",
      "[81]\ttrain-rmse:14.16512\tval-rmse:44.07639\n",
      "[82]\ttrain-rmse:13.94135\tval-rmse:44.11316\n",
      "[83]\ttrain-rmse:13.78280\tval-rmse:44.15607\n",
      "[84]\ttrain-rmse:13.72782\tval-rmse:44.16948\n",
      "[85]\ttrain-rmse:13.64009\tval-rmse:44.22602\n",
      "[86]\ttrain-rmse:13.55103\tval-rmse:44.22414\n",
      "[87]\ttrain-rmse:13.45733\tval-rmse:44.22955\n",
      "[88]\ttrain-rmse:13.27029\tval-rmse:44.20077\n",
      "[89]\ttrain-rmse:13.06611\tval-rmse:44.25658\n",
      "[90]\ttrain-rmse:12.90222\tval-rmse:44.30365\n",
      "[91]\ttrain-rmse:12.70138\tval-rmse:44.27992\n",
      "[92]\ttrain-rmse:12.52598\tval-rmse:44.27966\n",
      "[93]\ttrain-rmse:12.35376\tval-rmse:44.30546\n",
      "[94]\ttrain-rmse:12.23012\tval-rmse:44.33776\n",
      "[95]\ttrain-rmse:12.05464\tval-rmse:44.31210\n",
      "[96]\ttrain-rmse:11.83129\tval-rmse:44.35656\n",
      "[97]\ttrain-rmse:11.69930\tval-rmse:44.40721\n",
      "[98]\ttrain-rmse:11.59889\tval-rmse:44.42582\n",
      "[99]\ttrain-rmse:11.56417\tval-rmse:44.43210\n"
     ]
    }
   ],
   "execution_count": 78
  },
  {
   "metadata": {
    "ExecuteTime": {
     "end_time": "2024-11-01T21:33:52.855817Z",
     "start_time": "2024-11-01T21:33:52.850483Z"
    }
   },
   "cell_type": "code",
   "source": "answer",
   "id": "21eb10eb90b8ed68",
   "outputs": [
    {
     "data": {
      "text/plain": [
       "[(0.1, 41.043354592351655), (0.3, 44.432098039002526)]"
      ]
     },
     "execution_count": 79,
     "metadata": {},
     "output_type": "execute_result"
    }
   ],
   "execution_count": 79
  },
  {
   "metadata": {},
   "cell_type": "code",
   "outputs": [],
   "execution_count": null,
   "source": "",
   "id": "90d39a6ba0095a8"
  }
 ],
 "metadata": {
  "kernelspec": {
   "display_name": "Python 3",
   "language": "python",
   "name": "python3"
  },
  "language_info": {
   "codemirror_mode": {
    "name": "ipython",
    "version": 2
   },
   "file_extension": ".py",
   "mimetype": "text/x-python",
   "name": "python",
   "nbconvert_exporter": "python",
   "pygments_lexer": "ipython2",
   "version": "2.7.6"
  }
 },
 "nbformat": 4,
 "nbformat_minor": 5
}
